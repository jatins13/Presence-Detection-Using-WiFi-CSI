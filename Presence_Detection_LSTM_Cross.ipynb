{
  "nbformat": 4,
  "nbformat_minor": 0,
  "metadata": {
    "colab": {
      "provenance": [],
      "machine_shape": "hm",
      "include_colab_link": true
    },
    "kernelspec": {
      "display_name": "Python 3",
      "name": "python3"
    }
  },
  "cells": [
    {
      "cell_type": "markdown",
      "metadata": {
        "id": "view-in-github",
        "colab_type": "text"
      },
      "source": [
        "<a href=\"https://colab.research.google.com/github/jatins13/Presence-Detection-Using-WiFi-CSI/blob/main/Presence_Detection_LSTM_Cross.ipynb\" target=\"_parent\"><img src=\"https://colab.research.google.com/assets/colab-badge.svg\" alt=\"Open In Colab\"/></a>"
      ]
    },
    {
      "cell_type": "markdown",
      "metadata": {
        "id": "zClnywhDj8xM"
      },
      "source": [
        "# Imports"
      ]
    },
    {
      "cell_type": "code",
      "metadata": {
        "colab": {
          "base_uri": "https://localhost:8080/"
        },
        "id": "tAb77yZ9fzMG",
        "outputId": "7fcb463d-92ef-4e22-f068-0105a1b1f03c"
      },
      "source": [
        "import pandas as pd\n",
        "import numpy as np\n",
        "import glob\n",
        "from google.colab import drive\n",
        "from pathlib import Path\n",
        "from math import sqrt\n",
        "from sklearn.preprocessing import StandardScaler\n",
        "import matplotlib.pyplot as plt\n",
        "from sklearn.model_selection import KFold\n",
        "\n",
        "drive.mount('/content/gdrive')\n",
        "\n",
        "\n",
        "data_url = '/content/gdrive/MyDrive/Presence_detection_data_CSI/Train1/'"
      ],
      "execution_count": null,
      "outputs": [
        {
          "output_type": "stream",
          "text": [
            "Mounted at /content/gdrive\n"
          ],
          "name": "stdout"
        }
      ]
    },
    {
      "cell_type": "markdown",
      "metadata": {
        "id": "hz9UK9oqk2Xp"
      },
      "source": [
        "# Filters\n"
      ]
    },
    {
      "cell_type": "code",
      "metadata": {
        "id": "cR6Znm4Bk6uH"
      },
      "source": [
        "from scipy import signal\n",
        "def lowpass(csi_vec: np.array, cutoff: float, fs: float, order: int) -> np.array:\n",
        "    nyq = 0.5*fs\n",
        "    normal_cutoff = cutoff/nyq\n",
        "    b, a = signal.butter(order, normal_cutoff, btype=\"low\", analog=False)\n",
        "    return signal.filtfilt(b, a, csi_vec)\n",
        "\n",
        "def bandpass(csi_vec: np.array, low_cut: float, high_cut: float, fs: float, order: int) -> np.array:\n",
        "    nyq = 0.5*fs\n",
        "    b, a = signal.butter(order, [low_cut/nyq, high_cut/nyq], btype=\"band\", analog=False)\n",
        "    return signal.filtfilt(b, a, csi_vec)\n",
        "\n",
        "#Original implementation from whyrlpool.\n",
        "#Runs slightly slower than Pandas implementation.\n",
        "def hampel(csi: np.array, k: int=3, nsigma: int=3) -> np.array:\n",
        "    index = 0\n",
        "    csi = csi.copy()\n",
        "    for x in csi:\n",
        "        y = 0\n",
        "        if index <= k:\n",
        "            #Special case, first few samples.\n",
        "            y = k\n",
        "        elif index+k > len(csi):\n",
        "            #Special case, last few samples\n",
        "            y = -k\n",
        "\n",
        "        index += y\n",
        "        stdev = np.std(csi[index-k:index+k])\n",
        "        median = np.median(csi[index-k:index+k])\n",
        "        index -= y\n",
        "\n",
        "        if abs(x-median) > nsigma * stdev:\n",
        "            csi[index] = median\n",
        "        index += 1\n",
        "\n",
        "    return csi\n",
        "\n",
        "def running_mean(x: np.array, N: int) -> np.array:\n",
        "    return pd.Series(x).rolling(window=N, min_periods=1, center=True).mean().to_numpy()\n",
        "\n",
        "def running_stdev(x: np.array, N: int) -> np.array:\n",
        "    return pd.Series(x).rolling(window=N, min_periods=1, center=True).std().to_numpy()\n",
        "\n",
        "def running_variance(x: np.array, N: int) -> np.array:\n",
        "    return pd.Series(x).rolling(window=N, min_periods=1, center=True).var().to_numpy()"
      ],
      "execution_count": null,
      "outputs": []
    },
    {
      "cell_type": "markdown",
      "metadata": {
        "id": "LCOIGawDkLvI"
      },
      "source": [
        "# Read File Function\n"
      ]
    },
    {
      "cell_type": "code",
      "metadata": {
        "id": "pafL7Li0jyXW"
      },
      "source": [
        "def read_csv( data_url, window_size, step_size, scaler):\n",
        "\n",
        "\n",
        "  data_np_windowed = []\n",
        "  data_wp_windowed = []\n",
        "\n",
        "  data_np = []\n",
        "  data_wp = []\n",
        "\n",
        "  label_data_np = []\n",
        "  label_data_wp = []\n",
        "\n",
        "  file_list  = glob.glob(data_url+'*.csv')\n",
        "  for file_name in file_list:\n",
        "    print(file_name)\n",
        "    if (file_name.find('NP')!=-1):\n",
        "      noPersonData = pd.read_csv(file_name,low_memory=False)\n",
        "      noPersonData = noPersonData['CSI_DATA'].values\n",
        "      noPersonData = noPersonData[1800:-1800]\n",
        "\n",
        "      for i in range(0, noPersonData.shape[0]):\n",
        "        try:\n",
        "          st = noPersonData[i]\n",
        "          st = st[1:-2]\n",
        "          data_array = [int(s) for s in st.split(' ')]\n",
        "          data_array = data_array[12:64] + data_array[66:-10]\n",
        "          # print(data_array)\n",
        "          data_array_mag = []\n",
        "          for k in range(0,104,2):\n",
        "            data_array_mag.append(sqrt(data_array[k]**2 + data_array[k+1]**2))\n",
        "          # data_array_mag = running_mean(data_array_mag,5)\n",
        "          # data_array_mag = scaler.fit_transform(data_array_mag)\n",
        "          data_np.append(data_array_mag)\n",
        "        # Pre-processing\n",
        "        # data_np_window = lowpass(data_np_window,10,190,3)\n",
        "        # data_np_windowed.append(data_np_window)\n",
        "          # label_data_np.append(0)\n",
        "        except:\n",
        "          continue\n",
        "    else:\n",
        "      withPersonData = pd.read_csv(file_name,low_memory=False)\n",
        "      withPersonData = withPersonData['CSI_DATA'].values\n",
        "      withPersonData = withPersonData[1800:-1800]\n",
        "\n",
        "      for i in range(0, withPersonData.shape[0]):\n",
        "        try:\n",
        "          st = withPersonData[i]\n",
        "          st = st[1:-2]\n",
        "          data_array = [int(s) for s in st.split(' ')]\n",
        "          data_array = data_array[12:65] + data_array[67:-10]\n",
        "          # print(data_array)\n",
        "          data_array_mag = []\n",
        "          for k in range(0,104,2):\n",
        "            data_array_mag.append(sqrt(data_array[k]**2 + data_array[k+1]**2))\n",
        "          # data_array_mag = running_mean(data_array_mag,5)\n",
        "          # data_array_mag = scaler.fit_transform(data_array_mag)\n",
        "          data_wp.append(data_array_mag)\n",
        "          # Pre-processing\n",
        "          # data_np_window = lowpass(data_np_window,10,190,3)\n",
        "          # data_np_windowed.append(data_np_window)\n",
        "          # label_data_wp.append(1)\n",
        "        except:\n",
        "          continue\n",
        "\n",
        "  data_np = np.array(data_np)\n",
        "  data_wp = np.array(data_wp)\n",
        "  for i in range(0,52):\n",
        "          data_np[:,i] = bandpass(data_np[:,i],0.2,10,192,4)\n",
        "          # data_np[:,i] = running_mean(data_np[:,i],10)\n",
        "\n",
        "\n",
        "  for i in range(0,52):\n",
        "          data_wp[:,i] = bandpass(data_wp[:,i],0.2,10,192,4)\n",
        "          # data_wp[:,i] = running_mean(data_wp[:,i],10)\n",
        "  data_both = np.concatenate((data_np, data_wp), axis=0)\n",
        "\n",
        "  data_both = scaler.fit_transform(data_both)\n",
        "\n",
        "  data_np = data_both[0:data_np.shape[0],:]\n",
        "  data_wp = data_both[data_np.shape[0]:,:]\n",
        "\n",
        "\n",
        "\n",
        "  for start in range(0, data_np.shape[0]-window_size, step_size):\n",
        "        end = start + window_size\n",
        "        data_np_window= np.empty((0,52))\n",
        "        for j in range(start, end):\n",
        "          data_array_mag = data_np[j]\n",
        "          data_np_window = np.append(data_np_window,np.array([data_array_mag]),axis = 0)\n",
        "        # for i in range(0,52):\n",
        "        #   data_np_window[:,i] = bandpass(data_np_window[:,i],0.2,30,192,4)\n",
        "        #   data_np_window[:,i] = running_mean(data_np_window[:,i],10)\n",
        "        # data_np_window = scaler.fit_transform(data_np_window)\n",
        "\n",
        "        data_np_windowed.append(data_np_window)\n",
        "        label_data_np.append([0,1])\n",
        "\n",
        "  for start in range(0, data_wp.shape[0]-window_size, step_size):\n",
        "        end = start + window_size\n",
        "        data_wp_window= np.empty((0,52))\n",
        "        for j in range(start, end):\n",
        "          data_array_mag = data_wp[j]\n",
        "          # data_array_mag = running_mean(data_array_mag,10)\n",
        "          data_wp_window = np.append(data_wp_window,np.array([data_array_mag]),axis = 0)\n",
        "        # for i in range(0,52):\n",
        "        #   data_wp_window[:,i] = bandpass(data_wp_window[:,i],0.2,30,192,4)\n",
        "        #   data_wp_window[:,i] = running_mean(data_wp_window[:,i],10)\n",
        "        # data_wp_window = scaler.fit_transform(data_wp_window)\n",
        "        data_wp_windowed.append(data_wp_window)\n",
        "        label_data_wp.append([1,0])\n",
        "\n",
        "  data_np = data_np_windowed\n",
        "  data_wp = data_wp_windowed\n",
        "\n",
        "\n",
        "  return np.array(data_np), np.array(data_wp), np.array(label_data_np), np.array(label_data_wp), scaler\n"
      ],
      "execution_count": null,
      "outputs": []
    },
    {
      "cell_type": "markdown",
      "metadata": {
        "id": "DQgx0rlnkUt5"
      },
      "source": [
        "# Data Extraction\n"
      ]
    },
    {
      "cell_type": "code",
      "metadata": {
        "id": "rO8-QjwJnwcH",
        "colab": {
          "base_uri": "https://localhost:8080/"
        },
        "outputId": "f753319e-57a5-4ff7-8c64-e5a3dee1d524"
      },
      "source": [
        "window_size = 200\n",
        "step_size = 100\n",
        "scaler = StandardScaler()\n",
        "save_url = '/content/gdrive/MyDrive/Presence_detection_data_CSI/Files1/'\n",
        "\n",
        "save_url_np = save_url + 'data_np_window_size={window}_step_size={step}.npy'.format(window = window_size, step = step_size)\n",
        "save_url_np = Path(save_url_np)\n",
        "save_url_wp = save_url + 'data_wp_window-size={window}_step_size={step}.npy'.format(window = window_size, step = step_size)\n",
        "save_url_wp = Path(save_url_wp)\n",
        "\n",
        "if (save_url_np.is_file() and save_url_wp.is_file()):\n",
        "  data_np = np.load(save_url_np)\n",
        "  data_wp = np.load(save_url_wp)\n",
        "  label_data_np = np.zeros((data_np.shape[0],2))\n",
        "  label_data_wp = np.zeros((data_wp.shape[0],2))\n",
        "  label_data_np[:,1] = 1\n",
        "  label_data_wp[:,0] = 1\n",
        "else:\n",
        "  file1 = 'data_np_window_size={window}_step_size={step}.npy'.format(window = window_size, step = step_size)\n",
        "  file2 = 'data_wp_window-size={window}_step_size={step}.npy'.format(window = window_size, step = step_size)\n",
        "  data_np, data_wp, label_data_np, label_data_wp, scaler = read_csv(data_url, window_size=window_size, step_size=step_size, scaler=scaler)\n",
        "  np.save(file1,data_np)\n",
        "  np.save(file2,data_wp)"
      ],
      "execution_count": null,
      "outputs": [
        {
          "output_type": "stream",
          "text": [
            "/content/gdrive/MyDrive/Presence_detection_data_CSI/Train1/Copy of 10AP-1815-744-JATIN.csv\n",
            "/content/gdrive/MyDrive/Presence_detection_data_CSI/Train1/Copy of 05AP-2031-744-NP.csv\n",
            "/content/gdrive/MyDrive/Presence_detection_data_CSI/Train1/Copy of 10AP-1838-126-VIKASH.csv\n",
            "/content/gdrive/MyDrive/Presence_detection_data_CSI/Train1/Copy of 10AP-1930-123-BITAN-MANDAL.csv\n",
            "/content/gdrive/MyDrive/Presence_detection_data_CSI/Train1/Copy of 10AP-1845-126-NP.csv\n",
            "/content/gdrive/MyDrive/Presence_detection_data_CSI/Train1/Copy of 10AP-1854-125-YASWANTH.csv\n",
            "/content/gdrive/MyDrive/Presence_detection_data_CSI/Train1/Copy of 10AP-1959-122-NP.csv\n",
            "/content/gdrive/MyDrive/Presence_detection_data_CSI/Train1/Copy of 10AP-2011-122-RAJAM.csv\n",
            "/content/gdrive/MyDrive/Presence_detection_data_CSI/Train1/Copy of 10AP-1900-125-NP.csv\n",
            "/content/gdrive/MyDrive/Presence_detection_data_CSI/Train1/Copy of 10AP-1912-128-KARTHEEK.csv\n",
            "/content/gdrive/MyDrive/Presence_detection_data_CSI/Train1/Copy of 10AP-1943-123-NP.csv\n",
            "/content/gdrive/MyDrive/Presence_detection_data_CSI/Train1/Copy of 10AP-1920-128-NP.csv\n",
            "/content/gdrive/MyDrive/Presence_detection_data_CSI/Train1/Copy of 12AP-1627-118-ANVESH.csv\n",
            "/content/gdrive/MyDrive/Presence_detection_data_CSI/Train1/Copy of 10AP-2047-108-NP.csv\n",
            "/content/gdrive/MyDrive/Presence_detection_data_CSI/Train1/Copy of 12AP-1635-118-NP.csv\n",
            "/content/gdrive/MyDrive/Presence_detection_data_CSI/Train1/Copy of 12AP-1649-117-SHOBHIT.csv\n",
            "/content/gdrive/MyDrive/Presence_detection_data_CSI/Train1/Copy of 12AP-1233-747-AMAN.csv\n",
            "/content/gdrive/MyDrive/Presence_detection_data_CSI/Train1/Copy of 10AP-2047-108-MADHAV.csv\n",
            "/content/gdrive/MyDrive/Presence_detection_data_CSI/Train1/Copy of 12AP-2040-B722-RITAM.csv\n",
            "/content/gdrive/MyDrive/Presence_detection_data_CSI/Train1/Copy of 12AP-2255-B727-NP.csv\n",
            "/content/gdrive/MyDrive/Presence_detection_data_CSI/Train1/Copy of 12AP-1715-114-ARUNAV.csv\n",
            "/content/gdrive/MyDrive/Presence_detection_data_CSI/Train1/Copy of 12AP-2255-B727-SURAJ.csv\n",
            "/content/gdrive/MyDrive/Presence_detection_data_CSI/Train1/Copy of 12AP-1656-117-NP.csv\n",
            "/content/gdrive/MyDrive/Presence_detection_data_CSI/Train1/Copy of 12AP-2225-B752-SOMNATH.csv\n",
            "/content/gdrive/MyDrive/Presence_detection_data_CSI/Train1/Copy of 12AP-1726-114-NP.csv\n",
            "/content/gdrive/MyDrive/Presence_detection_data_CSI/Train1/Copy of 12AP-2225-B752-NP.csv\n",
            "/content/gdrive/MyDrive/Presence_detection_data_CSI/Train1/Copy of 12AP-2200-B730-RAVITEJA.csv\n",
            "/content/gdrive/MyDrive/Presence_detection_data_CSI/Train1/Copy of 12AP-2049-B722-NP.csv\n",
            "/content/gdrive/MyDrive/Presence_detection_data_CSI/Train1/Copy of 13AP-1235-747-NP.csv\n",
            "/content/gdrive/MyDrive/Presence_detection_data_CSI/Train1/Copy of 06AP-1525-740-SHIBHU-01.csv\n",
            "/content/gdrive/MyDrive/Presence_detection_data_CSI/Train1/Copy of 11AP-1754-748-NP.csv\n",
            "/content/gdrive/MyDrive/Presence_detection_data_CSI/Train1/Copy of 11AP-1219-735-NP.csv\n",
            "/content/gdrive/MyDrive/Presence_detection_data_CSI/Train1/Copy of 11AP-1219-735-VASU.csv\n",
            "/content/gdrive/MyDrive/Presence_detection_data_CSI/Train1/Copy of 11AP-1747-748-GURUDEV.csv\n",
            "/content/gdrive/MyDrive/Presence_detection_data_CSI/Train1/Copy of 13AP-1243-740-NP.csv\n"
          ],
          "name": "stdout"
        }
      ]
    },
    {
      "cell_type": "code",
      "metadata": {
        "id": "r9XryJxIDoTr"
      },
      "source": [
        "def train_test_split(data_np, data_wp, label_data_np, label_data_wp,train_portion, test_portion):\n",
        "  x_train = []\n",
        "  x_valid = []\n",
        "  x_test = []\n",
        "\n",
        "  y_train = []\n",
        "  y_valid = []\n",
        "  y_test = []\n",
        "\n",
        "  index1 = np.random.permutation([i for i in range(data_np.shape[0])])\n",
        "  index2 = np.random.permutation([i for i in range(data_wp.shape[0])])\n",
        "  # print(index1)\n",
        "  # print(index2)\n",
        "  split_len1 = int(train_portion * data_np.shape[0])\n",
        "  split_len1_2 = int((1-test_portion)* data_np.shape[0])\n",
        "  split_len2 = int(train_portion * data_wp.shape[0])\n",
        "  split_len2_2 = int((1-test_portion)* data_wp.shape[0])\n",
        "\n",
        "  x_train.append(data_np[index1[:split_len1],...])\n",
        "  x_train.append(data_wp[index2[:split_len2],...])\n",
        "\n",
        "  y_train.append(label_data_np[index1[:split_len1],...])\n",
        "  y_train.append(label_data_wp[index2[:split_len2],...])\n",
        "\n",
        "  x_valid.append(data_np[index1[split_len1:split_len1_2],...])\n",
        "  x_valid.append(data_wp[index2[split_len2:split_len2_2],...])\n",
        "\n",
        "  y_valid.append(label_data_np[index1[split_len1:split_len1_2],...])\n",
        "  y_valid.append(label_data_wp[index2[split_len2:split_len2_2],...])\n",
        "\n",
        "  x_test.append(data_np[index1[split_len1_2:],...])\n",
        "  x_test.append(data_wp[index2[split_len2_2:],...])\n",
        "\n",
        "  y_test.append(label_data_np[index1[split_len1_2:],...])\n",
        "  y_test.append(label_data_wp[index2[split_len2_2:],...])\n",
        "\n",
        "  x_train = np.concatenate(x_train, axis=0)\n",
        "  y_train = np.concatenate(y_train, axis=0)\n",
        "  x_valid = np.concatenate(x_valid, axis=0)\n",
        "  y_valid = np.concatenate(y_valid, axis=0)\n",
        "  x_test = np.concatenate(x_test, axis=0)\n",
        "  y_test = np.concatenate(y_test, axis=0)\n",
        "\n",
        "  index = np.random.permutation([i for i in range(x_train.shape[0])])\n",
        "  x_train = x_train[index, ...]\n",
        "  y_train = y_train[index, ...]\n",
        "\n",
        "  # x_train = x_train.reshape(x_train.shape[0],x_train.shape[1], 1)\n",
        "  # x_valid = x_valid.reshape(x_valid.shape[0],x_valid.shape[1], 1)\n",
        "\n",
        "  return x_train, y_train, x_valid, y_valid, x_test, y_test"
      ],
      "execution_count": null,
      "outputs": []
    },
    {
      "cell_type": "code",
      "metadata": {
        "colab": {
          "base_uri": "https://localhost:8080/"
        },
        "id": "999Ow_6331rw",
        "outputId": "c43357a0-f271-45f5-c2b0-f27d1486fb7a"
      },
      "source": [
        "x_train, y_train, x_valid, y_valid, x_test, y_test = train_test_split(data_np, data_wp, label_data_np, label_data_wp,train_portion =0.7, test_portion = 0.1)\n",
        "# y_test = np.transpose(y_test)\n",
        "# y_train = np.transpose(y_train)\n",
        "# y_valid = np.transpose(y_valid)\n",
        "print(y_test.shape)\n",
        "print(x_train.shape)\n"
      ],
      "execution_count": null,
      "outputs": [
        {
          "output_type": "stream",
          "text": [
            "(2122, 2)\n",
            "(14846, 200, 52)\n"
          ],
          "name": "stdout"
        }
      ]
    },
    {
      "cell_type": "code",
      "metadata": {
        "colab": {
          "base_uri": "https://localhost:8080/"
        },
        "id": "14HwBuxfGaIV",
        "outputId": "db83da73-644b-4f98-a81d-a4397b1ca5ee"
      },
      "source": [
        "print(data_np.shape)\n",
        "print(data_wp.shape)\n",
        "# from scipy.io import savemat\n",
        "# for i in range(0,10000,1000):\n",
        "#   mat = {\"block\":data_np[i]}\n",
        "#   fname = 'NP{num}.mat'.format(num=i//1000)\n",
        "#   savemat(fname,mat)\n"
      ],
      "execution_count": null,
      "outputs": [
        {
          "output_type": "stream",
          "text": [
            "(10537, 200, 52)\n",
            "(10674, 200, 52)\n"
          ],
          "name": "stdout"
        }
      ]
    },
    {
      "cell_type": "code",
      "metadata": {
        "id": "1cFeV3KePii3"
      },
      "source": [
        "# for i in range(0,10000,1000):\n",
        "#   mat = {\"block\":data_wp[i]}\n",
        "#   fname = 'WP{num}.mat'.format(num=i//1000)\n",
        "#   savemat(fname,mat)\n"
      ],
      "execution_count": null,
      "outputs": []
    },
    {
      "cell_type": "markdown",
      "metadata": {
        "id": "E4Mjb2KSkc1a"
      },
      "source": [
        "# Data Visualizations"
      ]
    },
    {
      "cell_type": "code",
      "metadata": {
        "colab": {
          "base_uri": "https://localhost:8080/"
        },
        "id": "NfkligYozKRH",
        "outputId": "23341b7d-aaaa-4d56-ec73-960995b7a5c2"
      },
      "source": [
        "print(data_wp.shape)\n",
        "data_1 = np.concatenate(data_np,axis = 0)\n",
        "print(data_1.shape)\n",
        "data_1_max = np.max(data_1,axis=0)\n",
        "data_1_min = np.min(data_1,axis=0)\n",
        "data_1_sd = np.std(data_1,axis= 0)\n",
        "data_1_avg = np.mean(data_1,axis = 0)\n",
        "\n",
        "data_2 = np.concatenate(data_wp,axis = 0)\n",
        "print(data_2.shape)\n",
        "data_2_min = np.min(data_2,axis=0)\n",
        "data_2_max = np.max(data_2,axis=0)\n",
        "data_2_avg = np.mean(data_2,axis= 0)\n",
        "data_2_sd = np.std(data_2,axis= 0)\n",
        "print(data_np.shape)\n",
        "\n",
        "\n",
        "\n"
      ],
      "execution_count": null,
      "outputs": [
        {
          "output_type": "stream",
          "text": [
            "(10674, 200, 52)\n",
            "(2107400, 52)\n",
            "(2134800, 52)\n",
            "(10537, 200, 52)\n"
          ],
          "name": "stdout"
        }
      ]
    },
    {
      "cell_type": "code",
      "metadata": {
        "colab": {
          "base_uri": "https://localhost:8080/",
          "height": 282
        },
        "id": "bbq69rfSDTpz",
        "outputId": "e7d98c3c-a729-4a35-c8b2-a8cc8e18a219"
      },
      "source": [
        "plt.plot(np.linspace(0,len(data_1_sd),len(data_1_sd)),data_1_sd,'--ok',label = 'No Person')\n",
        "plt.plot(np.linspace(0,len(data_2_sd),len(data_2_sd)),data_2_sd,'--o', label = 'With Person')\n",
        "plt.legend()"
      ],
      "execution_count": null,
      "outputs": [
        {
          "output_type": "execute_result",
          "data": {
            "text/plain": [
              "<matplotlib.legend.Legend at 0x7fede1c44810>"
            ]
          },
          "metadata": {
            "tags": []
          },
          "execution_count": 39
        },
        {
          "output_type": "display_data",
          "data": {
            "image/png": "[encoded data removed]",
            "text/plain": [
              "<Figure size 432x288 with 1 Axes>"
            ]
          },
          "metadata": {
            "tags": [],
            "needs_background": "light"
          }
        }
      ]
    },
    {
      "cell_type": "code",
      "metadata": {
        "colab": {
          "base_uri": "https://localhost:8080/",
          "height": 283
        },
        "id": "zbGzjwBQ77L7",
        "outputId": "62030929-8a50-4938-928d-d2a3f0992154"
      },
      "source": [
        "plt.figure(figsize=(30,5))\n",
        "plt.subplot(2,1,1)\n",
        "plt.plot(np.linspace(0,len(data_1_max),len(data_1_max)),data_1_max,'--o',label='No Person')\n",
        "plt.legend()\n",
        "plt.subplot(2,1,2)\n",
        "plt.plot(np.linspace(0,len(data_2_max),len(data_2_max)),data_2_max,'--or', label = 'With Person')\n",
        "plt.legend()\n"
      ],
      "execution_count": null,
      "outputs": [
        {
          "output_type": "execute_result",
          "data": {
            "text/plain": [
              "<matplotlib.legend.Legend at 0x7fede01d2290>"
            ]
          },
          "metadata": {
            "tags": []
          },
          "execution_count": 40
        },
        {
          "output_type": "display_data",
          "data": {
            "image/png": "[encoded data removed]",
            "text/plain": [
              "<Figure size 2160x360 with 2 Axes>"
            ]
          },
          "metadata": {
            "tags": [],
            "needs_background": "light"
          }
        }
      ]
    },
    {
      "cell_type": "code",
      "metadata": {
        "colab": {
          "base_uri": "https://localhost:8080/",
          "height": 283
        },
        "id": "6l0oIChjAOYT",
        "outputId": "c68247e4-7c27-49c4-c408-302d8cbf6dab"
      },
      "source": [
        "plt.plot(np.linspace(0,len(data_1_max),len(data_1_max)),data_1_max,'--ok',label='No Person' )\n",
        "plt.plot(np.linspace(0,len(data_2_max),len(data_2_max)),data_2_max,'--o', label='With Person')\n",
        "plt.legend()"
      ],
      "execution_count": null,
      "outputs": [
        {
          "output_type": "execute_result",
          "data": {
            "text/plain": [
              "<matplotlib.legend.Legend at 0x7fede5bf6950>"
            ]
          },
          "metadata": {
            "tags": []
          },
          "execution_count": 41
        },
        {
          "output_type": "display_data",
          "data": {
            "image/png": "[encoded data removed]",
            "text/plain": [
              "<Figure size 432x288 with 1 Axes>"
            ]
          },
          "metadata": {
            "tags": [],
            "needs_background": "light"
          }
        }
      ]
    },
    {
      "cell_type": "code",
      "metadata": {
        "colab": {
          "base_uri": "https://localhost:8080/",
          "height": 282
        },
        "id": "XGW5NwUB-A9C",
        "outputId": "f0b37636-3496-4187-ba78-ff32a2d65827"
      },
      "source": [
        "plt.subplot(2,1,1)\n",
        "plt.plot(np.linspace(0,len(data_1_avg),len(data_1_avg)),data_1_avg,'--o')\n",
        "plt.subplot(2,1,2)\n",
        "plt.plot(np.linspace(0,len(data_2_avg),len(data_2_avg)),data_2_avg,'--or')\n"
      ],
      "execution_count": null,
      "outputs": [
        {
          "output_type": "execute_result",
          "data": {
            "text/plain": [
              "[<matplotlib.lines.Line2D at 0x7fede1c3ac50>]"
            ]
          },
          "metadata": {
            "tags": []
          },
          "execution_count": 42
        },
        {
          "output_type": "display_data",
          "data": {
            "image/png": "[encoded data removed]",
            "text/plain": [
              "<Figure size 432x288 with 2 Axes>"
            ]
          },
          "metadata": {
            "tags": [],
            "needs_background": "light"
          }
        }
      ]
    },
    {
      "cell_type": "code",
      "metadata": {
        "colab": {
          "base_uri": "https://localhost:8080/",
          "height": 282
        },
        "id": "cPGH1b_e8TRO",
        "outputId": "3a61ebe4-e915-4bb4-8a96-782fac8c5254"
      },
      "source": [
        "plt.plot(np.linspace(0,len(data_1_min),len(data_1_min)),data_1_min,'--o',label='No Person')\n",
        "plt.plot(np.linspace(0,len(data_2_min),len(data_2_min)),data_2_min,'--o',label='With Person')\n",
        "plt.legend()"
      ],
      "execution_count": null,
      "outputs": [
        {
          "output_type": "execute_result",
          "data": {
            "text/plain": [
              "<matplotlib.legend.Legend at 0x7fede1cd2ed0>"
            ]
          },
          "metadata": {
            "tags": []
          },
          "execution_count": 43
        },
        {
          "output_type": "display_data",
          "data": {
            "image/png": "[encoded data removed]",
            "text/plain": [
              "<Figure size 432x288 with 1 Axes>"
            ]
          },
          "metadata": {
            "tags": [],
            "needs_background": "light"
          }
        }
      ]
    },
    {
      "cell_type": "code",
      "metadata": {
        "colab": {
          "base_uri": "https://localhost:8080/",
          "height": 284
        },
        "id": "dmiAwG2xOMQH",
        "outputId": "282c1bfc-b3ec-4cf6-c6ad-f778d3cd291a"
      },
      "source": [
        "plt.figure(figsize=(30,5))\n",
        "plt.subplot(2,1,1)\n",
        "plt.plot(np.linspace(0,2000,2000),data_1[:2000,45],'--o', label='No Person')\n",
        "plt.legend()\n",
        "plt.subplot(2,1,2)\n",
        "plt.plot(np.linspace(0,2000,2000),data_2[:2000,45],'--o', label='With Person')\n",
        "plt.legend()"
      ],
      "execution_count": null,
      "outputs": [
        {
          "output_type": "execute_result",
          "data": {
            "text/plain": [
              "<matplotlib.legend.Legend at 0x7fede01c75d0>"
            ]
          },
          "metadata": {
            "tags": []
          },
          "execution_count": 44
        },
        {
          "output_type": "display_data",
          "data": {
            "image/png": "[encoded data removed]",
            "text/plain": [
              "<Figure size 2160x360 with 2 Axes>"
            ]
          },
          "metadata": {
            "tags": [],
            "needs_background": "light"
          }
        }
      ]
    },
    {
      "cell_type": "code",
      "metadata": {
        "colab": {
          "base_uri": "https://localhost:8080/"
        },
        "id": "2NvoSl5dDnOc",
        "outputId": "3a01df79-e593-48ce-c93b-93c1ab814ac5"
      },
      "source": [
        "print(data_np.shape)\n",
        "print(data_wp.shape)\n",
        "\n",
        "print(label_data_np.shape)\n",
        "print(label_data_wp)"
      ],
      "execution_count": null,
      "outputs": [
        {
          "output_type": "stream",
          "text": [
            "(10537, 200, 52)\n",
            "(10674, 200, 52)\n",
            "(10537, 2)\n",
            "[[1 0]\n",
            " [1 0]\n",
            " [1 0]\n",
            " ...\n",
            " [1 0]\n",
            " [1 0]\n",
            " [1 0]]\n"
          ],
          "name": "stdout"
        }
      ]
    },
    {
      "cell_type": "code",
      "metadata": {
        "colab": {
          "base_uri": "https://localhost:8080/"
        },
        "id": "uUuCU7j9zLKx",
        "outputId": "0b0c5f7d-6b31-419d-e7a5-df23de3de80c"
      },
      "source": [
        "print(x_train.shape)\n",
        "print(y_test.shape)"
      ],
      "execution_count": null,
      "outputs": [
        {
          "output_type": "stream",
          "text": [
            "(14846, 200, 52)\n",
            "(2122, 2)\n"
          ],
          "name": "stdout"
        }
      ]
    },
    {
      "cell_type": "markdown",
      "metadata": {
        "id": "Hjs18-Q0jVrP"
      },
      "source": [
        "# Dense Model\n"
      ]
    },
    {
      "cell_type": "code",
      "metadata": {
        "colab": {
          "base_uri": "https://localhost:8080/"
        },
        "id": "6U-yTJhvjFJb",
        "outputId": "44d50bbc-ddd3-467a-e148-711198320ef5"
      },
      "source": [
        "#Defining the model\n",
        "batch_size = 128\n",
        "num_classes = 2\n",
        "epochs = 40\n",
        "input_shape = (window_size,52)\n",
        "\n",
        "import keras\n",
        "from keras.models import Model\n",
        "from keras.models import Sequential\n",
        "from keras.layers import Dense\n",
        "from keras.layers import Flatten\n",
        "from keras.layers import Dropout\n",
        "from keras.layers import LSTM\n",
        "from keras.layers import Bidirectional\n",
        "# from keras.utils import to_categorical\n",
        "import tensorflow as tf\n",
        "\n",
        "\n",
        "model = Sequential()\n",
        "\n",
        "model.add(LSTM(100, input_shape=input_shape))\n",
        "model.add(Dropout(0.3))\n",
        "model.add(Dense(64, activation='tanh'))\n",
        "model.add(Dropout(0.3))\n",
        "model.add(Dense(32, activation='tanh'))\n",
        "model.add(Dropout(0.3))\n",
        "model.add(Dense(16, activation='tanh'))\n",
        "model.add(Dropout(0.3))\n",
        "model.add(Dense(num_classes, activation='softmax'))\n",
        "model.summary()\n",
        "\n",
        "callbacks = [\n",
        "    keras.callbacks.ModelCheckpoint(\n",
        "        \"best_model.h5\", save_best_only=True, monitor=\"val_loss\"\n",
        "    ),\n",
        "    keras.callbacks.ReduceLROnPlateau(\n",
        "        monitor=\"val_loss\", factor=0.5, patience=20, min_lr=0.0001\n",
        "    ),\n",
        "    keras.callbacks.EarlyStopping(monitor=\"val_loss\", patience=50, verbose=1),\n",
        "]"
      ],
      "execution_count": null,
      "outputs": [
        {
          "output_type": "stream",
          "text": [
            "Model: \"sequential_1\"\n",
            "_________________________________________________________________\n",
            "Layer (type)                 Output Shape              Param #   \n",
            "=================================================================\n",
            "lstm_1 (LSTM)                (None, 100)               61200     \n",
            "_________________________________________________________________\n",
            "dropout_4 (Dropout)          (None, 100)               0         \n",
            "_________________________________________________________________\n",
            "dense_4 (Dense)              (None, 64)                6464      \n",
            "_________________________________________________________________\n",
            "dropout_5 (Dropout)          (None, 64)                0         \n",
            "_________________________________________________________________\n",
            "dense_5 (Dense)              (None, 32)                2080      \n",
            "_________________________________________________________________\n",
            "dropout_6 (Dropout)          (None, 32)                0         \n",
            "_________________________________________________________________\n",
            "dense_6 (Dense)              (None, 16)                528       \n",
            "_________________________________________________________________\n",
            "dropout_7 (Dropout)          (None, 16)                0         \n",
            "_________________________________________________________________\n",
            "dense_7 (Dense)              (None, 2)                 34        \n",
            "=================================================================\n",
            "Total params: 70,306\n",
            "Trainable params: 70,306\n",
            "Non-trainable params: 0\n",
            "_________________________________________________________________\n"
          ],
          "name": "stdout"
        }
      ]
    },
    {
      "cell_type": "markdown",
      "metadata": {
        "id": "IDI7qnLLG7Nq"
      },
      "source": [
        "# Without Cross-Validation\n"
      ]
    },
    {
      "cell_type": "code",
      "metadata": {
        "id": "tAMItodGGdQl",
        "colab": {
          "base_uri": "https://localhost:8080/"
        },
        "outputId": "b473028e-2854-4b1e-e692-d4e6cc2f8675"
      },
      "source": [
        "model.compile(\n",
        "        optimizer=tf.keras.optimizers.Adam(learning_rate=1e-4),\n",
        "        loss='binary_crossentropy',\n",
        "        metrics=['accuracy'])\n",
        "\n",
        "history = model.fit(\n",
        "          x_train,\n",
        "          y_train,\n",
        "          batch_size=batch_size,\n",
        "          epochs=epochs,\n",
        "          validation_data=(x_valid, y_valid),\n",
        "          callbacks = callbacks\n",
        "        )"
      ],
      "execution_count": null,
      "outputs": [
        {
          "output_type": "stream",
          "text": [
            "Epoch 1/40\n",
            "116/116 [==============================] - 44s 351ms/step - loss: 0.7091 - accuracy: 0.5305 - val_loss: 0.6428 - val_accuracy: 0.6719\n",
            "Epoch 2/40\n",
            "116/116 [==============================] - 39s 338ms/step - loss: 0.6582 - accuracy: 0.6131 - val_loss: 0.4684 - val_accuracy: 0.8301\n",
            "Epoch 3/40\n",
            "116/116 [==============================] - 39s 336ms/step - loss: 0.3454 - accuracy: 0.8850 - val_loss: 0.1287 - val_accuracy: 0.9675\n",
            "Epoch 4/40\n",
            "116/116 [==============================] - 39s 340ms/step - loss: 0.1650 - accuracy: 0.9622 - val_loss: 0.0939 - val_accuracy: 0.9741\n",
            "Epoch 5/40\n",
            "116/116 [==============================] - 39s 336ms/step - loss: 0.1084 - accuracy: 0.9772 - val_loss: 0.0653 - val_accuracy: 0.9833\n",
            "Epoch 6/40\n",
            "116/116 [==============================] - 39s 335ms/step - loss: 0.0835 - accuracy: 0.9816 - val_loss: 0.0462 - val_accuracy: 0.9889\n",
            "Epoch 7/40\n",
            "116/116 [==============================] - 39s 337ms/step - loss: 0.0612 - accuracy: 0.9882 - val_loss: 0.0410 - val_accuracy: 0.9901\n",
            "Epoch 8/40\n",
            "116/116 [==============================] - 39s 340ms/step - loss: 0.0555 - accuracy: 0.9885 - val_loss: 0.0375 - val_accuracy: 0.9915\n",
            "Epoch 9/40\n",
            "116/116 [==============================] - 39s 338ms/step - loss: 0.0485 - accuracy: 0.9912 - val_loss: 0.1004 - val_accuracy: 0.9738\n",
            "Epoch 10/40\n",
            "116/116 [==============================] - 39s 338ms/step - loss: 0.0589 - accuracy: 0.9866 - val_loss: 0.3219 - val_accuracy: 0.9168\n",
            "Epoch 11/40\n",
            "116/116 [==============================] - 39s 337ms/step - loss: 0.1720 - accuracy: 0.9563 - val_loss: 0.0327 - val_accuracy: 0.9929\n",
            "Epoch 12/40\n",
            "116/116 [==============================] - 39s 338ms/step - loss: 0.0493 - accuracy: 0.9897 - val_loss: 0.0310 - val_accuracy: 0.9932\n",
            "Epoch 13/40\n",
            "116/116 [==============================] - 39s 337ms/step - loss: 0.0449 - accuracy: 0.9910 - val_loss: 0.0255 - val_accuracy: 0.9946\n",
            "Epoch 14/40\n",
            "116/116 [==============================] - 39s 339ms/step - loss: 0.0376 - accuracy: 0.9932 - val_loss: 0.0219 - val_accuracy: 0.9946\n",
            "Epoch 15/40\n",
            "116/116 [==============================] - 40s 341ms/step - loss: 0.0323 - accuracy: 0.9936 - val_loss: 0.0219 - val_accuracy: 0.9948\n",
            "Epoch 16/40\n",
            "116/116 [==============================] - 48s 418ms/step - loss: 0.0258 - accuracy: 0.9950 - val_loss: 0.0819 - val_accuracy: 0.9819\n",
            "Epoch 17/40\n",
            "116/116 [==============================] - 40s 346ms/step - loss: 0.0530 - accuracy: 0.9879 - val_loss: 0.0224 - val_accuracy: 0.9948\n",
            "Epoch 18/40\n",
            "116/116 [==============================] - 39s 340ms/step - loss: 0.0237 - accuracy: 0.9957 - val_loss: 0.0185 - val_accuracy: 0.9951\n",
            "Epoch 19/40\n",
            "116/116 [==============================] - 39s 340ms/step - loss: 0.0254 - accuracy: 0.9948 - val_loss: 0.0259 - val_accuracy: 0.9943\n",
            "Epoch 20/40\n",
            "116/116 [==============================] - 39s 340ms/step - loss: 0.0214 - accuracy: 0.9965 - val_loss: 0.0189 - val_accuracy: 0.9960\n",
            "Epoch 21/40\n",
            "116/116 [==============================] - 40s 341ms/step - loss: 0.0400 - accuracy: 0.9903 - val_loss: 0.0138 - val_accuracy: 0.9974\n",
            "Epoch 22/40\n",
            "116/116 [==============================] - 40s 343ms/step - loss: 0.0228 - accuracy: 0.9963 - val_loss: 0.0219 - val_accuracy: 0.9955\n",
            "Epoch 23/40\n",
            "116/116 [==============================] - 40s 346ms/step - loss: 0.0166 - accuracy: 0.9975 - val_loss: 0.0115 - val_accuracy: 0.9974\n",
            "Epoch 24/40\n",
            "116/116 [==============================] - 40s 343ms/step - loss: 0.0107 - accuracy: 0.9987 - val_loss: 0.0118 - val_accuracy: 0.9972\n",
            "Epoch 25/40\n",
            "116/116 [==============================] - 40s 342ms/step - loss: 0.0135 - accuracy: 0.9975 - val_loss: 0.0125 - val_accuracy: 0.9981\n",
            "Epoch 26/40\n",
            "116/116 [==============================] - 39s 340ms/step - loss: 0.0140 - accuracy: 0.9977 - val_loss: 0.0306 - val_accuracy: 0.9927\n",
            "Epoch 27/40\n",
            "116/116 [==============================] - 39s 340ms/step - loss: 0.0259 - accuracy: 0.9944 - val_loss: 0.0213 - val_accuracy: 0.9953\n",
            "Epoch 28/40\n",
            "116/116 [==============================] - 40s 342ms/step - loss: 0.0216 - accuracy: 0.9956 - val_loss: 0.0259 - val_accuracy: 0.9943\n",
            "Epoch 29/40\n",
            "116/116 [==============================] - 40s 342ms/step - loss: 0.0189 - accuracy: 0.9959 - val_loss: 0.0138 - val_accuracy: 0.9972\n",
            "Epoch 30/40\n",
            "116/116 [==============================] - 39s 339ms/step - loss: 0.0101 - accuracy: 0.9982 - val_loss: 0.0110 - val_accuracy: 0.9984\n",
            "Epoch 31/40\n",
            "116/116 [==============================] - 39s 339ms/step - loss: 0.0078 - accuracy: 0.9990 - val_loss: 0.0123 - val_accuracy: 0.9976\n",
            "Epoch 32/40\n",
            "116/116 [==============================] - 40s 344ms/step - loss: 0.0063 - accuracy: 0.9989 - val_loss: 0.0084 - val_accuracy: 0.9986\n",
            "Epoch 33/40\n",
            "116/116 [==============================] - 40s 343ms/step - loss: 0.0079 - accuracy: 0.9987 - val_loss: 0.0078 - val_accuracy: 0.9991\n",
            "Epoch 34/40\n",
            "116/116 [==============================] - 39s 340ms/step - loss: 0.0079 - accuracy: 0.9988 - val_loss: 0.0190 - val_accuracy: 0.9960\n",
            "Epoch 35/40\n",
            "116/116 [==============================] - 46s 394ms/step - loss: 0.0158 - accuracy: 0.9969 - val_loss: 0.0207 - val_accuracy: 0.9955\n",
            "Epoch 36/40\n",
            "116/116 [==============================] - 40s 342ms/step - loss: 0.0811 - accuracy: 0.9838 - val_loss: 0.0838 - val_accuracy: 0.9762\n",
            "Epoch 37/40\n",
            "116/116 [==============================] - 39s 339ms/step - loss: 0.0701 - accuracy: 0.9795 - val_loss: 0.0293 - val_accuracy: 0.9915\n",
            "Epoch 38/40\n",
            "116/116 [==============================] - 39s 340ms/step - loss: 0.0322 - accuracy: 0.9895 - val_loss: 0.0181 - val_accuracy: 0.9939\n",
            "Epoch 39/40\n",
            "116/116 [==============================] - 39s 341ms/step - loss: 0.0232 - accuracy: 0.9924 - val_loss: 0.0190 - val_accuracy: 0.9955\n",
            "Epoch 40/40\n",
            "116/116 [==============================] - 40s 343ms/step - loss: 0.0208 - accuracy: 0.9947 - val_loss: 0.0179 - val_accuracy: 0.9958\n"
          ],
          "name": "stdout"
        }
      ]
    },
    {
      "cell_type": "markdown",
      "metadata": {
        "id": "0rgdaD5yGZvl"
      },
      "source": [
        "# Cross-Validation"
      ]
    },
    {
      "cell_type": "code",
      "metadata": {
        "id": "81hBfTrntOHH"
      },
      "source": [
        "# K-fold Cross Validation\n",
        "num_folds = 5\n",
        "# Define per-fold score containers\n",
        "acc_per_fold = []\n",
        "loss_per_fold = []\n",
        "\n",
        "kfold = KFold(n_splits=num_folds, shuffle=True)\n",
        "inputs  = np.concatenate((data_np, data_wp),axis = 0)\n",
        "targets = np.concatenate((label_data_np, label_data_wp), axis =0)\n"
      ],
      "execution_count": null,
      "outputs": []
    },
    {
      "cell_type": "code",
      "metadata": {
        "colab": {
          "base_uri": "https://localhost:8080/"
        },
        "id": "AnuL0r1hRGu1",
        "outputId": "fc18d969-3746-4812-ad9a-078375508a11"
      },
      "source": [
        "fold_no = 1\n",
        "for train, test in kfold.split(inputs, targets):\n",
        "  print('------------------------------------------------------------------------')\n",
        "  print(f'Training for fold {fold_no} ...')\n",
        "  model.compile(\n",
        "        optimizer=tf.keras.optimizers.Adam(learning_rate=1e-4),\n",
        "        loss='binary_crossentropy',\n",
        "        metrics=['accuracy'])\n",
        "\n",
        "  history = model.fit(\n",
        "          inputs[train],\n",
        "          targets[train],\n",
        "          batch_size=batch_size,\n",
        "          epochs=epochs,\n",
        "          validation_data=(inputs[test], targets[test]),\n",
        "          callbacks = callbacks\n",
        "        )\n",
        "  # Generate generalization metrics\n",
        "  scores = model.evaluate(inputs[test], targets[test], verbose=0)\n",
        "  print(f'Score for fold {fold_no}: {model.metrics_names[0]} of {scores[0]}; {model.metrics_names[1]} of {scores[1]*100}%')\n",
        "  acc_per_fold.append(scores[1] * 100)\n",
        "  loss_per_fold.append(scores[0])\n",
        "\n",
        "  # Increase fold number\n",
        "  fold_no = fold_no + 1\n",
        "\n",
        "# == Provide average scores ==\n",
        "print('------------------------------------------------------------------------')\n",
        "print('Score per fold')\n",
        "for i in range(0, len(acc_per_fold)):\n",
        "  print('------------------------------------------------------------------------')\n",
        "  print(f'> Fold {i+1} - Loss: {loss_per_fold[i]} - Accuracy: {acc_per_fold[i]}%')\n",
        "print('------------------------------------------------------------------------')\n",
        "print('Average scores for all folds:')\n",
        "print(f'> Accuracy: {np.mean(acc_per_fold)} (+- {np.std(acc_per_fold)})')\n",
        "print(f'> Loss: {np.mean(loss_per_fold)}')\n",
        "print('------------------------------------------------------------------------')\n",
        "\n"
      ],
      "execution_count": null,
      "outputs": [
        {
          "output_type": "stream",
          "text": [
            "------------------------------------------------------------------------\n",
            "Training for fold 1 ...\n",
            "Epoch 1/40\n",
            "133/133 [==============================] - 46s 326ms/step - loss: 0.0207 - accuracy: 0.9963 - val_loss: 0.0153 - val_accuracy: 0.9974\n",
            "Epoch 2/40\n",
            "133/133 [==============================] - 42s 318ms/step - loss: 0.0249 - accuracy: 0.9958 - val_loss: 0.0061 - val_accuracy: 0.9986\n",
            "Epoch 3/40\n",
            "133/133 [==============================] - 43s 321ms/step - loss: 0.0103 - accuracy: 0.9983 - val_loss: 0.0145 - val_accuracy: 0.9972\n",
            "Epoch 4/40\n",
            "133/133 [==============================] - 43s 325ms/step - loss: 0.0241 - accuracy: 0.9957 - val_loss: 0.0083 - val_accuracy: 0.9981\n",
            "Epoch 5/40\n",
            "133/133 [==============================] - 43s 323ms/step - loss: 0.0108 - accuracy: 0.9984 - val_loss: 0.0053 - val_accuracy: 0.9993\n",
            "Epoch 6/40\n",
            "133/133 [==============================] - 43s 326ms/step - loss: 0.0099 - accuracy: 0.9988 - val_loss: 0.0102 - val_accuracy: 0.9984\n",
            "Epoch 7/40\n",
            "133/133 [==============================] - 43s 326ms/step - loss: 0.0083 - accuracy: 0.9992 - val_loss: 0.0549 - val_accuracy: 0.9889\n",
            "Epoch 8/40\n",
            "133/133 [==============================] - 43s 323ms/step - loss: 0.0146 - accuracy: 0.9972 - val_loss: 0.0113 - val_accuracy: 0.9979\n",
            "Epoch 9/40\n",
            "133/133 [==============================] - 47s 352ms/step - loss: 0.0078 - accuracy: 0.9990 - val_loss: 0.0046 - val_accuracy: 0.9991\n",
            "Epoch 10/40\n",
            "133/133 [==============================] - 43s 323ms/step - loss: 0.0065 - accuracy: 0.9995 - val_loss: 0.0246 - val_accuracy: 0.9955\n",
            "Epoch 11/40\n",
            "133/133 [==============================] - 43s 323ms/step - loss: 0.0669 - accuracy: 0.9867 - val_loss: 0.0153 - val_accuracy: 0.9965\n",
            "Epoch 12/40\n",
            "133/133 [==============================] - 43s 322ms/step - loss: 0.0151 - accuracy: 0.9966 - val_loss: 0.0319 - val_accuracy: 0.9936\n",
            "Epoch 13/40\n",
            "133/133 [==============================] - 43s 322ms/step - loss: 0.0186 - accuracy: 0.9960 - val_loss: 0.0057 - val_accuracy: 0.9988\n",
            "Epoch 14/40\n",
            "133/133 [==============================] - 43s 322ms/step - loss: 0.0101 - accuracy: 0.9981 - val_loss: 0.0816 - val_accuracy: 0.9840\n",
            "Epoch 15/40\n",
            "133/133 [==============================] - 43s 323ms/step - loss: 0.0305 - accuracy: 0.9940 - val_loss: 0.0060 - val_accuracy: 0.9991\n",
            "Epoch 16/40\n",
            "133/133 [==============================] - 43s 323ms/step - loss: 0.0081 - accuracy: 0.9984 - val_loss: 0.0357 - val_accuracy: 0.9941\n",
            "Epoch 17/40\n",
            "133/133 [==============================] - 43s 325ms/step - loss: 0.0181 - accuracy: 0.9968 - val_loss: 0.0601 - val_accuracy: 0.9892\n",
            "Epoch 18/40\n",
            "133/133 [==============================] - 43s 324ms/step - loss: 0.0247 - accuracy: 0.9944 - val_loss: 0.0199 - val_accuracy: 0.9951\n",
            "Epoch 19/40\n",
            "133/133 [==============================] - 43s 325ms/step - loss: 0.0903 - accuracy: 0.9813 - val_loss: 0.0439 - val_accuracy: 0.9894\n",
            "Epoch 20/40\n",
            "133/133 [==============================] - 43s 323ms/step - loss: 0.0433 - accuracy: 0.9902 - val_loss: 0.0170 - val_accuracy: 0.9951\n",
            "Epoch 21/40\n",
            "133/133 [==============================] - 44s 328ms/step - loss: 0.0253 - accuracy: 0.9945 - val_loss: 0.0083 - val_accuracy: 0.9974\n",
            "Epoch 22/40\n",
            "133/133 [==============================] - 43s 323ms/step - loss: 0.0146 - accuracy: 0.9973 - val_loss: 0.0088 - val_accuracy: 0.9976\n",
            "Epoch 23/40\n",
            "133/133 [==============================] - 43s 324ms/step - loss: 0.0122 - accuracy: 0.9981 - val_loss: 0.0060 - val_accuracy: 0.9984\n",
            "Epoch 24/40\n",
            "133/133 [==============================] - 43s 325ms/step - loss: 0.0122 - accuracy: 0.9977 - val_loss: 0.0042 - val_accuracy: 0.9991\n",
            "Epoch 25/40\n",
            "133/133 [==============================] - 43s 326ms/step - loss: 0.0082 - accuracy: 0.9986 - val_loss: 0.0035 - val_accuracy: 0.9993\n",
            "Epoch 26/40\n",
            "133/133 [==============================] - 44s 327ms/step - loss: 0.0060 - accuracy: 0.9996 - val_loss: 0.0033 - val_accuracy: 0.9991\n",
            "Epoch 27/40\n",
            "133/133 [==============================] - 43s 327ms/step - loss: 0.0065 - accuracy: 0.9993 - val_loss: 0.0035 - val_accuracy: 0.9993\n",
            "Epoch 28/40\n",
            "133/133 [==============================] - 44s 329ms/step - loss: 0.0075 - accuracy: 0.9989 - val_loss: 0.0023 - val_accuracy: 0.9993\n",
            "Epoch 29/40\n",
            "133/133 [==============================] - 44s 334ms/step - loss: 0.0075 - accuracy: 0.9992 - val_loss: 0.0027 - val_accuracy: 0.9993\n",
            "Epoch 30/40\n",
            "133/133 [==============================] - 43s 326ms/step - loss: 0.0050 - accuracy: 0.9994 - val_loss: 0.0084 - val_accuracy: 0.9984\n",
            "Epoch 31/40\n",
            "133/133 [==============================] - 44s 328ms/step - loss: 0.0065 - accuracy: 0.9988 - val_loss: 0.0034 - val_accuracy: 0.9991\n",
            "Epoch 32/40\n",
            "133/133 [==============================] - 44s 329ms/step - loss: 0.0033 - accuracy: 0.9998 - val_loss: 0.0040 - val_accuracy: 0.9988\n",
            "Epoch 33/40\n",
            "133/133 [==============================] - 44s 331ms/step - loss: 0.0038 - accuracy: 0.9997 - val_loss: 0.0032 - val_accuracy: 0.9993\n",
            "Epoch 34/40\n",
            "133/133 [==============================] - 44s 329ms/step - loss: 0.0035 - accuracy: 0.9998 - val_loss: 0.0040 - val_accuracy: 0.9993\n",
            "Epoch 35/40\n",
            "133/133 [==============================] - 44s 328ms/step - loss: 0.0041 - accuracy: 0.9992 - val_loss: 0.0096 - val_accuracy: 0.9981\n",
            "Epoch 36/40\n",
            "133/133 [==============================] - 44s 330ms/step - loss: 0.0080 - accuracy: 0.9988 - val_loss: 0.0060 - val_accuracy: 0.9988\n",
            "Epoch 37/40\n",
            "133/133 [==============================] - 44s 329ms/step - loss: 0.0043 - accuracy: 0.9995 - val_loss: 0.0046 - val_accuracy: 0.9991\n",
            "Epoch 38/40\n",
            "133/133 [==============================] - 44s 330ms/step - loss: 0.0052 - accuracy: 0.9995 - val_loss: 0.0445 - val_accuracy: 0.9918\n",
            "Epoch 39/40\n",
            "133/133 [==============================] - 43s 326ms/step - loss: 0.0447 - accuracy: 0.9922 - val_loss: 0.0058 - val_accuracy: 0.9984\n",
            "Epoch 40/40\n",
            "133/133 [==============================] - 43s 326ms/step - loss: 0.0045 - accuracy: 0.9992 - val_loss: 0.0020 - val_accuracy: 0.9993\n",
            "Score for fold 1: loss of 0.002013609977439046; accuracy of 99.92929697036743%\n",
            "------------------------------------------------------------------------\n",
            "Training for fold 2 ...\n",
            "Epoch 1/40\n",
            "133/133 [==============================] - 47s 334ms/step - loss: 0.0050 - accuracy: 0.9990 - val_loss: 0.0041 - val_accuracy: 0.9993\n",
            "Epoch 2/40\n",
            "133/133 [==============================] - 44s 334ms/step - loss: 0.0097 - accuracy: 0.9980 - val_loss: 0.0115 - val_accuracy: 0.9983\n",
            "Epoch 3/40\n",
            "133/133 [==============================] - 44s 330ms/step - loss: 0.0088 - accuracy: 0.9989 - val_loss: 0.0015 - val_accuracy: 0.9998\n",
            "Epoch 4/40\n",
            "133/133 [==============================] - 43s 327ms/step - loss: 0.0034 - accuracy: 0.9996 - val_loss: 0.0014 - val_accuracy: 0.9998\n",
            "Epoch 5/40\n",
            "133/133 [==============================] - 43s 326ms/step - loss: 0.0049 - accuracy: 0.9992 - val_loss: 0.0043 - val_accuracy: 0.9993\n",
            "Epoch 6/40\n",
            "133/133 [==============================] - 43s 326ms/step - loss: 0.0044 - accuracy: 0.9994 - val_loss: 0.0187 - val_accuracy: 0.9974\n",
            "Epoch 7/40\n",
            "133/133 [==============================] - 46s 348ms/step - loss: 0.0106 - accuracy: 0.9986 - val_loss: 0.0077 - val_accuracy: 0.9988\n",
            "Epoch 8/40\n",
            "133/133 [==============================] - 44s 330ms/step - loss: 0.0366 - accuracy: 0.9944 - val_loss: 0.0923 - val_accuracy: 0.9851\n",
            "Epoch 9/40\n",
            "133/133 [==============================] - 44s 333ms/step - loss: 0.0631 - accuracy: 0.9887 - val_loss: 0.0168 - val_accuracy: 0.9972\n",
            "Epoch 10/40\n",
            "133/133 [==============================] - 44s 334ms/step - loss: 0.0155 - accuracy: 0.9970 - val_loss: 0.0124 - val_accuracy: 0.9974\n",
            "Epoch 11/40\n",
            "133/133 [==============================] - 44s 333ms/step - loss: 0.0149 - accuracy: 0.9977 - val_loss: 0.2034 - val_accuracy: 0.9620\n",
            "Epoch 12/40\n",
            "133/133 [==============================] - 44s 331ms/step - loss: 0.1420 - accuracy: 0.9686 - val_loss: 0.0650 - val_accuracy: 0.9828\n",
            "Epoch 13/40\n",
            "133/133 [==============================] - 44s 327ms/step - loss: 0.0579 - accuracy: 0.9832 - val_loss: 0.0504 - val_accuracy: 0.9863\n",
            "Epoch 14/40\n",
            "133/133 [==============================] - 43s 327ms/step - loss: 0.0497 - accuracy: 0.9856 - val_loss: 0.0421 - val_accuracy: 0.9894\n",
            "Epoch 15/40\n",
            "133/133 [==============================] - 44s 330ms/step - loss: 0.0358 - accuracy: 0.9903 - val_loss: 0.0353 - val_accuracy: 0.9906\n",
            "Epoch 16/40\n",
            "133/133 [==============================] - 45s 338ms/step - loss: 0.0325 - accuracy: 0.9917 - val_loss: 0.0316 - val_accuracy: 0.9922\n",
            "Epoch 17/40\n",
            "133/133 [==============================] - 45s 338ms/step - loss: 0.0292 - accuracy: 0.9919 - val_loss: 0.0252 - val_accuracy: 0.9929\n",
            "Epoch 18/40\n",
            "133/133 [==============================] - 44s 330ms/step - loss: 0.0246 - accuracy: 0.9938 - val_loss: 0.0215 - val_accuracy: 0.9939\n",
            "Epoch 19/40\n",
            "133/133 [==============================] - 44s 330ms/step - loss: 0.0225 - accuracy: 0.9941 - val_loss: 0.0196 - val_accuracy: 0.9948\n",
            "Epoch 20/40\n",
            "133/133 [==============================] - 45s 335ms/step - loss: 0.0213 - accuracy: 0.9936 - val_loss: 0.0199 - val_accuracy: 0.9943\n",
            "Epoch 21/40\n",
            "133/133 [==============================] - 47s 357ms/step - loss: 0.0196 - accuracy: 0.9946 - val_loss: 0.0152 - val_accuracy: 0.9958\n",
            "Epoch 22/40\n",
            "133/133 [==============================] - 46s 348ms/step - loss: 0.0151 - accuracy: 0.9955 - val_loss: 0.0121 - val_accuracy: 0.9962\n",
            "Epoch 23/40\n",
            "133/133 [==============================] - 47s 357ms/step - loss: 0.0164 - accuracy: 0.9956 - val_loss: 0.0104 - val_accuracy: 0.9969\n",
            "Epoch 24/40\n",
            "133/133 [==============================] - 48s 361ms/step - loss: 0.0168 - accuracy: 0.9954 - val_loss: 0.0100 - val_accuracy: 0.9969\n",
            "Epoch 25/40\n",
            "133/133 [==============================] - 47s 350ms/step - loss: 0.0110 - accuracy: 0.9963 - val_loss: 0.0099 - val_accuracy: 0.9974\n",
            "Epoch 26/40\n",
            "133/133 [==============================] - 47s 353ms/step - loss: 0.0115 - accuracy: 0.9974 - val_loss: 0.0106 - val_accuracy: 0.9972\n",
            "Epoch 27/40\n",
            "133/133 [==============================] - 47s 354ms/step - loss: 0.0186 - accuracy: 0.9955 - val_loss: 0.0120 - val_accuracy: 0.9965\n",
            "Epoch 28/40\n",
            "133/133 [==============================] - 47s 352ms/step - loss: 0.0125 - accuracy: 0.9964 - val_loss: 0.0108 - val_accuracy: 0.9965\n",
            "Epoch 29/40\n",
            "133/133 [==============================] - 47s 350ms/step - loss: 0.0097 - accuracy: 0.9973 - val_loss: 0.0102 - val_accuracy: 0.9972\n",
            "Epoch 30/40\n",
            "133/133 [==============================] - 47s 350ms/step - loss: 0.0091 - accuracy: 0.9976 - val_loss: 0.0059 - val_accuracy: 0.9983\n",
            "Epoch 31/40\n",
            "133/133 [==============================] - 48s 358ms/step - loss: 0.0081 - accuracy: 0.9976 - val_loss: 0.0069 - val_accuracy: 0.9983\n",
            "Epoch 32/40\n",
            "133/133 [==============================] - 50s 373ms/step - loss: 0.0069 - accuracy: 0.9985 - val_loss: 0.0069 - val_accuracy: 0.9981\n",
            "Epoch 33/40\n",
            "133/133 [==============================] - 47s 353ms/step - loss: 0.0063 - accuracy: 0.9984 - val_loss: 0.0111 - val_accuracy: 0.9972\n",
            "Epoch 34/40\n",
            "133/133 [==============================] - 47s 350ms/step - loss: 0.0073 - accuracy: 0.9979 - val_loss: 0.0078 - val_accuracy: 0.9983\n",
            "Epoch 35/40\n",
            "133/133 [==============================] - 47s 356ms/step - loss: 0.0062 - accuracy: 0.9986 - val_loss: 0.0082 - val_accuracy: 0.9986\n",
            "Epoch 36/40\n",
            "133/133 [==============================] - 47s 351ms/step - loss: 0.0044 - accuracy: 0.9990 - val_loss: 0.0071 - val_accuracy: 0.9983\n",
            "Epoch 37/40\n",
            "133/133 [==============================] - 47s 356ms/step - loss: 0.0049 - accuracy: 0.9988 - val_loss: 0.0063 - val_accuracy: 0.9988\n",
            "Epoch 38/40\n",
            "133/133 [==============================] - 46s 350ms/step - loss: 0.0056 - accuracy: 0.9989 - val_loss: 0.0048 - val_accuracy: 0.9991\n",
            "Epoch 39/40\n",
            "133/133 [==============================] - 49s 370ms/step - loss: 0.0053 - accuracy: 0.9992 - val_loss: 0.0130 - val_accuracy: 0.9974\n",
            "Epoch 40/40\n",
            "133/133 [==============================] - 48s 359ms/step - loss: 0.0075 - accuracy: 0.9981 - val_loss: 0.0093 - val_accuracy: 0.9983\n",
            "Score for fold 2: loss of 0.009286719374358654; accuracy of 99.83498454093933%\n",
            "------------------------------------------------------------------------\n",
            "Training for fold 3 ...\n",
            "Epoch 1/40\n",
            "133/133 [==============================] - 57s 396ms/step - loss: 0.0077 - accuracy: 0.9987 - val_loss: 0.0162 - val_accuracy: 0.9979\n",
            "Epoch 2/40\n",
            "133/133 [==============================] - 47s 354ms/step - loss: 0.0145 - accuracy: 0.9975 - val_loss: 0.0060 - val_accuracy: 0.9993\n",
            "Epoch 3/40\n",
            "133/133 [==============================] - 46s 348ms/step - loss: 0.0042 - accuracy: 0.9991 - val_loss: 0.0018 - val_accuracy: 0.9995\n",
            "Epoch 4/40\n",
            "133/133 [==============================] - 46s 346ms/step - loss: 0.0026 - accuracy: 0.9997 - val_loss: 0.0052 - val_accuracy: 0.9993\n",
            "Epoch 5/40\n",
            "133/133 [==============================] - 47s 352ms/step - loss: 0.0012 - accuracy: 1.0000 - val_loss: 0.0051 - val_accuracy: 0.9993\n",
            "Epoch 6/40\n",
            "133/133 [==============================] - 48s 362ms/step - loss: 0.0013 - accuracy: 0.9998 - val_loss: 0.0051 - val_accuracy: 0.9993\n",
            "Epoch 7/40\n",
            "133/133 [==============================] - 51s 382ms/step - loss: 9.2211e-04 - accuracy: 1.0000 - val_loss: 0.0035 - val_accuracy: 0.9995\n",
            "Epoch 8/40\n",
            "133/133 [==============================] - 48s 361ms/step - loss: 0.0010 - accuracy: 0.9999 - val_loss: 0.0034 - val_accuracy: 0.9995\n",
            "Epoch 9/40\n",
            "133/133 [==============================] - 47s 351ms/step - loss: 7.4417e-04 - accuracy: 1.0000 - val_loss: 0.0055 - val_accuracy: 0.9993\n",
            "Epoch 10/40\n",
            "133/133 [==============================] - 49s 365ms/step - loss: 6.7727e-04 - accuracy: 1.0000 - val_loss: 0.0036 - val_accuracy: 0.9995\n",
            "Epoch 11/40\n",
            "133/133 [==============================] - 47s 355ms/step - loss: 6.9341e-04 - accuracy: 1.0000 - val_loss: 0.0057 - val_accuracy: 0.9993\n",
            "Epoch 12/40\n",
            "133/133 [==============================] - 49s 368ms/step - loss: 6.2221e-04 - accuracy: 1.0000 - val_loss: 0.0043 - val_accuracy: 0.9993\n",
            "Epoch 13/40\n",
            "133/133 [==============================] - 47s 354ms/step - loss: 5.3692e-04 - accuracy: 1.0000 - val_loss: 0.0053 - val_accuracy: 0.9993\n",
            "Epoch 14/40\n",
            "133/133 [==============================] - 47s 355ms/step - loss: 5.1957e-04 - accuracy: 1.0000 - val_loss: 0.0051 - val_accuracy: 0.9993\n",
            "Epoch 15/40\n",
            "133/133 [==============================] - 46s 349ms/step - loss: 0.0061 - accuracy: 0.9991 - val_loss: 0.0218 - val_accuracy: 0.9969\n",
            "Epoch 16/40\n",
            "133/133 [==============================] - 46s 350ms/step - loss: 0.0139 - accuracy: 0.9983 - val_loss: 0.0204 - val_accuracy: 0.9972\n",
            "Epoch 17/40\n",
            "133/133 [==============================] - 47s 353ms/step - loss: 0.0266 - accuracy: 0.9953 - val_loss: 0.0042 - val_accuracy: 0.9995\n",
            "Epoch 18/40\n",
            "133/133 [==============================] - 54s 409ms/step - loss: 0.0082 - accuracy: 0.9987 - val_loss: 0.0030 - val_accuracy: 0.9993\n",
            "Epoch 19/40\n",
            "133/133 [==============================] - 47s 353ms/step - loss: 0.0032 - accuracy: 0.9992 - val_loss: 0.0019 - val_accuracy: 0.9998\n",
            "Epoch 20/40\n",
            "133/133 [==============================] - 46s 348ms/step - loss: 0.0071 - accuracy: 0.9987 - val_loss: 0.0057 - val_accuracy: 0.9988\n",
            "Epoch 21/40\n",
            "133/133 [==============================] - 47s 357ms/step - loss: 0.0038 - accuracy: 0.9992 - val_loss: 0.0028 - val_accuracy: 0.9995\n",
            "Epoch 22/40\n",
            "133/133 [==============================] - 46s 346ms/step - loss: 0.0015 - accuracy: 0.9998 - val_loss: 0.0036 - val_accuracy: 0.9993\n",
            "Epoch 23/40\n",
            "133/133 [==============================] - 46s 343ms/step - loss: 0.0013 - accuracy: 0.9999 - val_loss: 0.0041 - val_accuracy: 0.9993\n",
            "Epoch 24/40\n",
            "133/133 [==============================] - 45s 339ms/step - loss: 0.0035 - accuracy: 0.9996 - val_loss: 0.0012 - val_accuracy: 0.9998\n",
            "Epoch 25/40\n",
            "133/133 [==============================] - 45s 342ms/step - loss: 0.0032 - accuracy: 0.9996 - val_loss: 0.2912 - val_accuracy: 0.9606\n",
            "Epoch 26/40\n",
            "133/133 [==============================] - 46s 344ms/step - loss: 0.0830 - accuracy: 0.9822 - val_loss: 0.0153 - val_accuracy: 0.9967\n",
            "Epoch 27/40\n",
            "133/133 [==============================] - 45s 338ms/step - loss: 0.0215 - accuracy: 0.9948 - val_loss: 0.0126 - val_accuracy: 0.9969\n",
            "Epoch 28/40\n",
            "133/133 [==============================] - 44s 335ms/step - loss: 0.0131 - accuracy: 0.9977 - val_loss: 0.0111 - val_accuracy: 0.9979\n",
            "Epoch 29/40\n",
            "133/133 [==============================] - 46s 347ms/step - loss: 0.0093 - accuracy: 0.9984 - val_loss: 0.0919 - val_accuracy: 0.9870\n",
            "Epoch 30/40\n",
            "133/133 [==============================] - 46s 345ms/step - loss: 0.0324 - accuracy: 0.9946 - val_loss: 0.0074 - val_accuracy: 0.9988\n",
            "Epoch 31/40\n",
            "133/133 [==============================] - 46s 343ms/step - loss: 0.0042 - accuracy: 0.9992 - val_loss: 0.0051 - val_accuracy: 0.9991\n",
            "Epoch 32/40\n",
            "133/133 [==============================] - 46s 343ms/step - loss: 0.0020 - accuracy: 0.9999 - val_loss: 0.0040 - val_accuracy: 0.9993\n",
            "Epoch 33/40\n",
            "133/133 [==============================] - 46s 343ms/step - loss: 0.0027 - accuracy: 0.9997 - val_loss: 0.0032 - val_accuracy: 0.9995\n",
            "Epoch 34/40\n",
            "133/133 [==============================] - 45s 340ms/step - loss: 0.0023 - accuracy: 0.9994 - val_loss: 0.0036 - val_accuracy: 0.9993\n",
            "Epoch 35/40\n",
            "133/133 [==============================] - 44s 335ms/step - loss: 0.0012 - accuracy: 1.0000 - val_loss: 0.0038 - val_accuracy: 0.9993\n",
            "Epoch 36/40\n",
            "133/133 [==============================] - 45s 339ms/step - loss: 0.0011 - accuracy: 0.9999 - val_loss: 0.0036 - val_accuracy: 0.9993\n",
            "Epoch 37/40\n",
            "133/133 [==============================] - 46s 343ms/step - loss: 9.9978e-04 - accuracy: 1.0000 - val_loss: 0.0034 - val_accuracy: 0.9993\n",
            "Epoch 38/40\n",
            "133/133 [==============================] - 46s 350ms/step - loss: 8.8834e-04 - accuracy: 1.0000 - val_loss: 0.0034 - val_accuracy: 0.9993\n",
            "Epoch 39/40\n",
            "133/133 [==============================] - 47s 356ms/step - loss: 8.6919e-04 - accuracy: 1.0000 - val_loss: 0.0174 - val_accuracy: 0.9972\n",
            "Epoch 40/40\n",
            "133/133 [==============================] - 45s 338ms/step - loss: 0.0021 - accuracy: 0.9995 - val_loss: 0.0049 - val_accuracy: 0.9988\n",
            "Score for fold 3: loss of 0.004926870111376047; accuracy of 99.88213181495667%\n",
            "------------------------------------------------------------------------\n",
            "Training for fold 4 ...\n",
            "Epoch 1/40\n",
            "133/133 [==============================] - 48s 339ms/step - loss: 0.0048 - accuracy: 0.9994 - val_loss: 1.7414e-04 - val_accuracy: 1.0000\n",
            "Epoch 2/40\n",
            "133/133 [==============================] - 44s 331ms/step - loss: 0.0017 - accuracy: 0.9995 - val_loss: 0.0047 - val_accuracy: 0.9991\n",
            "Epoch 3/40\n",
            "133/133 [==============================] - 44s 332ms/step - loss: 0.0039 - accuracy: 0.9993 - val_loss: 1.1351e-04 - val_accuracy: 1.0000\n",
            "Epoch 4/40\n",
            "133/133 [==============================] - 44s 334ms/step - loss: 0.0015 - accuracy: 0.9998 - val_loss: 0.0033 - val_accuracy: 0.9995\n",
            "Epoch 5/40\n",
            "133/133 [==============================] - 44s 329ms/step - loss: 0.0029 - accuracy: 0.9995 - val_loss: 1.1061e-04 - val_accuracy: 1.0000\n",
            "Epoch 6/40\n",
            "133/133 [==============================] - 44s 331ms/step - loss: 0.0202 - accuracy: 0.9969 - val_loss: 0.0010 - val_accuracy: 0.9995\n",
            "Epoch 7/40\n",
            "133/133 [==============================] - 50s 373ms/step - loss: 0.0024 - accuracy: 0.9996 - val_loss: 3.3996e-04 - val_accuracy: 1.0000\n",
            "Epoch 8/40\n",
            "133/133 [==============================] - 44s 328ms/step - loss: 8.4843e-04 - accuracy: 1.0000 - val_loss: 1.8829e-04 - val_accuracy: 1.0000\n",
            "Epoch 9/40\n",
            "133/133 [==============================] - 45s 335ms/step - loss: 6.4494e-04 - accuracy: 1.0000 - val_loss: 1.6108e-04 - val_accuracy: 1.0000\n",
            "Epoch 10/40\n",
            "133/133 [==============================] - 45s 342ms/step - loss: 6.5236e-04 - accuracy: 1.0000 - val_loss: 1.6210e-04 - val_accuracy: 1.0000\n",
            "Epoch 11/40\n",
            "133/133 [==============================] - 45s 340ms/step - loss: 5.5375e-04 - accuracy: 1.0000 - val_loss: 1.3132e-04 - val_accuracy: 1.0000\n",
            "Epoch 12/40\n",
            "133/133 [==============================] - 45s 335ms/step - loss: 5.2997e-04 - accuracy: 1.0000 - val_loss: 1.2104e-04 - val_accuracy: 1.0000\n",
            "Epoch 13/40\n",
            "133/133 [==============================] - 44s 330ms/step - loss: 5.1785e-04 - accuracy: 1.0000 - val_loss: 1.0618e-04 - val_accuracy: 1.0000\n",
            "Epoch 14/40\n",
            "133/133 [==============================] - 43s 327ms/step - loss: 4.7312e-04 - accuracy: 1.0000 - val_loss: 9.9016e-05 - val_accuracy: 1.0000\n",
            "Epoch 15/40\n",
            "133/133 [==============================] - 43s 326ms/step - loss: 4.5057e-04 - accuracy: 1.0000 - val_loss: 9.2277e-05 - val_accuracy: 1.0000\n",
            "Epoch 16/40\n",
            "133/133 [==============================] - 43s 327ms/step - loss: 4.4001e-04 - accuracy: 1.0000 - val_loss: 8.6086e-05 - val_accuracy: 1.0000\n",
            "Epoch 17/40\n",
            "133/133 [==============================] - 43s 327ms/step - loss: 4.0499e-04 - accuracy: 1.0000 - val_loss: 0.0012 - val_accuracy: 0.9998\n",
            "Epoch 18/40\n",
            "133/133 [==============================] - 44s 333ms/step - loss: 0.0108 - accuracy: 0.9983 - val_loss: 0.0036 - val_accuracy: 0.9993\n",
            "Epoch 19/40\n",
            "133/133 [==============================] - 44s 328ms/step - loss: 0.0069 - accuracy: 0.9988 - val_loss: 0.0037 - val_accuracy: 0.9993\n",
            "Epoch 20/40\n",
            "133/133 [==============================] - 43s 327ms/step - loss: 8.3085e-04 - accuracy: 0.9997 - val_loss: 1.7688e-04 - val_accuracy: 1.0000\n",
            "Epoch 21/40\n",
            "133/133 [==============================] - 45s 335ms/step - loss: 0.0012 - accuracy: 0.9997 - val_loss: 1.0192e-04 - val_accuracy: 1.0000\n",
            "Epoch 22/40\n",
            "133/133 [==============================] - 43s 325ms/step - loss: 0.0883 - accuracy: 0.9848 - val_loss: 0.0652 - val_accuracy: 0.9847\n",
            "Epoch 23/40\n",
            "133/133 [==============================] - 43s 327ms/step - loss: 0.0579 - accuracy: 0.9854 - val_loss: 0.0248 - val_accuracy: 0.9932\n",
            "Epoch 24/40\n",
            "133/133 [==============================] - 43s 325ms/step - loss: 0.0259 - accuracy: 0.9936 - val_loss: 0.0124 - val_accuracy: 0.9976\n",
            "Epoch 25/40\n",
            "133/133 [==============================] - 44s 329ms/step - loss: 0.0099 - accuracy: 0.9973 - val_loss: 0.0083 - val_accuracy: 0.9983\n",
            "Epoch 26/40\n",
            "133/133 [==============================] - 43s 326ms/step - loss: 0.0089 - accuracy: 0.9978 - val_loss: 0.0066 - val_accuracy: 0.9986\n",
            "Epoch 27/40\n",
            "133/133 [==============================] - 43s 326ms/step - loss: 0.0067 - accuracy: 0.9986 - val_loss: 0.0052 - val_accuracy: 0.9983\n",
            "Epoch 28/40\n",
            "133/133 [==============================] - 44s 328ms/step - loss: 0.0051 - accuracy: 0.9991 - val_loss: 0.0029 - val_accuracy: 0.9991\n",
            "Epoch 29/40\n",
            "133/133 [==============================] - 43s 327ms/step - loss: 0.0047 - accuracy: 0.9991 - val_loss: 0.0015 - val_accuracy: 0.9993\n",
            "Epoch 30/40\n",
            "133/133 [==============================] - 44s 330ms/step - loss: 0.0029 - accuracy: 0.9995 - val_loss: 0.0073 - val_accuracy: 0.9983\n",
            "Epoch 31/40\n",
            "133/133 [==============================] - 43s 326ms/step - loss: 0.0052 - accuracy: 0.9990 - val_loss: 0.0028 - val_accuracy: 0.9995\n",
            "Epoch 32/40\n",
            "133/133 [==============================] - 44s 328ms/step - loss: 0.0023 - accuracy: 0.9996 - val_loss: 0.0026 - val_accuracy: 0.9993\n",
            "Epoch 33/40\n",
            "133/133 [==============================] - 43s 326ms/step - loss: 0.0073 - accuracy: 0.9986 - val_loss: 0.0045 - val_accuracy: 0.9993\n",
            "Epoch 34/40\n",
            "133/133 [==============================] - 43s 325ms/step - loss: 0.0036 - accuracy: 0.9994 - val_loss: 8.2557e-04 - val_accuracy: 0.9998\n",
            "Epoch 35/40\n",
            "133/133 [==============================] - 43s 325ms/step - loss: 0.0318 - accuracy: 0.9918 - val_loss: 0.0135 - val_accuracy: 0.9960\n",
            "Epoch 36/40\n",
            "133/133 [==============================] - 43s 325ms/step - loss: 0.0108 - accuracy: 0.9972 - val_loss: 0.0041 - val_accuracy: 0.9986\n",
            "Epoch 37/40\n",
            "133/133 [==============================] - 43s 326ms/step - loss: 0.0068 - accuracy: 0.9978 - val_loss: 0.0018 - val_accuracy: 0.9995\n",
            "Epoch 38/40\n",
            "133/133 [==============================] - 43s 325ms/step - loss: 0.0032 - accuracy: 0.9992 - val_loss: 0.0013 - val_accuracy: 0.9995\n",
            "Epoch 39/40\n",
            "133/133 [==============================] - 44s 329ms/step - loss: 0.0015 - accuracy: 0.9998 - val_loss: 0.0011 - val_accuracy: 0.9998\n",
            "Epoch 40/40\n",
            "133/133 [==============================] - 44s 328ms/step - loss: 0.0013 - accuracy: 0.9999 - val_loss: 9.3147e-04 - val_accuracy: 0.9998\n",
            "Score for fold 4: loss of 0.0009314738563261926; accuracy of 99.97642636299133%\n",
            "------------------------------------------------------------------------\n",
            "Training for fold 5 ...\n",
            "Epoch 1/40\n",
            "133/133 [==============================] - 47s 333ms/step - loss: 0.0022 - accuracy: 0.9997 - val_loss: 0.0026 - val_accuracy: 0.9995\n",
            "Epoch 2/40\n",
            "133/133 [==============================] - 43s 325ms/step - loss: 0.0014 - accuracy: 0.9997 - val_loss: 0.0017 - val_accuracy: 0.9998\n",
            "Epoch 3/40\n",
            "133/133 [==============================] - 43s 326ms/step - loss: 0.0034 - accuracy: 0.9992 - val_loss: 0.0012 - val_accuracy: 0.9998\n",
            "Epoch 4/40\n",
            "133/133 [==============================] - 43s 327ms/step - loss: 0.0017 - accuracy: 0.9998 - val_loss: 2.0961e-04 - val_accuracy: 1.0000\n",
            "Epoch 5/40\n",
            "133/133 [==============================] - 43s 326ms/step - loss: 6.9194e-04 - accuracy: 0.9999 - val_loss: 8.5783e-04 - val_accuracy: 0.9998\n",
            "Epoch 6/40\n",
            "133/133 [==============================] - 43s 326ms/step - loss: 4.8739e-04 - accuracy: 1.0000 - val_loss: 9.3599e-04 - val_accuracy: 0.9998\n",
            "Epoch 7/40\n",
            "133/133 [==============================] - 44s 330ms/step - loss: 5.8041e-04 - accuracy: 1.0000 - val_loss: 0.0011 - val_accuracy: 0.9998\n",
            "Epoch 8/40\n",
            "133/133 [==============================] - 43s 325ms/step - loss: 4.1658e-04 - accuracy: 1.0000 - val_loss: 0.0013 - val_accuracy: 0.9998\n",
            "Epoch 9/40\n",
            "133/133 [==============================] - 43s 324ms/step - loss: 6.5693e-04 - accuracy: 1.0000 - val_loss: 0.0025 - val_accuracy: 0.9995\n",
            "Epoch 10/40\n",
            "133/133 [==============================] - 43s 324ms/step - loss: 0.0028 - accuracy: 0.9996 - val_loss: 0.0199 - val_accuracy: 0.9974\n",
            "Epoch 11/40\n",
            "133/133 [==============================] - 43s 325ms/step - loss: 0.0067 - accuracy: 0.9990 - val_loss: 6.9814e-05 - val_accuracy: 1.0000\n",
            "Epoch 12/40\n",
            "133/133 [==============================] - 43s 326ms/step - loss: 0.0016 - accuracy: 0.9998 - val_loss: 6.5598e-05 - val_accuracy: 1.0000\n",
            "Epoch 13/40\n",
            "133/133 [==============================] - 43s 323ms/step - loss: 5.3810e-04 - accuracy: 1.0000 - val_loss: 1.4083e-04 - val_accuracy: 1.0000\n",
            "Epoch 14/40\n",
            "133/133 [==============================] - 44s 334ms/step - loss: 4.7587e-04 - accuracy: 0.9999 - val_loss: 9.6556e-04 - val_accuracy: 0.9998\n",
            "Epoch 15/40\n",
            "133/133 [==============================] - 43s 322ms/step - loss: 3.7974e-04 - accuracy: 1.0000 - val_loss: 2.0739e-04 - val_accuracy: 1.0000\n",
            "Epoch 16/40\n",
            "133/133 [==============================] - 43s 322ms/step - loss: 3.2887e-04 - accuracy: 1.0000 - val_loss: 5.0238e-04 - val_accuracy: 0.9998\n",
            "Epoch 17/40\n",
            "133/133 [==============================] - 43s 322ms/step - loss: 7.5212e-04 - accuracy: 0.9999 - val_loss: 0.0016 - val_accuracy: 0.9998\n",
            "Epoch 18/40\n",
            "133/133 [==============================] - 43s 322ms/step - loss: 5.3080e-04 - accuracy: 0.9997 - val_loss: 0.0015 - val_accuracy: 0.9998\n",
            "Epoch 19/40\n",
            "133/133 [==============================] - 43s 324ms/step - loss: 2.8653e-04 - accuracy: 1.0000 - val_loss: 0.0019 - val_accuracy: 0.9998\n",
            "Epoch 20/40\n",
            "133/133 [==============================] - 45s 336ms/step - loss: 2.6091e-04 - accuracy: 1.0000 - val_loss: 0.0020 - val_accuracy: 0.9998\n",
            "Epoch 21/40\n",
            "133/133 [==============================] - 44s 329ms/step - loss: 2.8683e-04 - accuracy: 1.0000 - val_loss: 0.0020 - val_accuracy: 0.9998\n",
            "Epoch 22/40\n",
            "133/133 [==============================] - 43s 326ms/step - loss: 2.5700e-04 - accuracy: 1.0000 - val_loss: 0.0021 - val_accuracy: 0.9998\n",
            "Epoch 23/40\n",
            "133/133 [==============================] - 44s 329ms/step - loss: 2.3098e-04 - accuracy: 1.0000 - val_loss: 0.0022 - val_accuracy: 0.9998\n",
            "Epoch 24/40\n",
            "133/133 [==============================] - 43s 325ms/step - loss: 2.1312e-04 - accuracy: 1.0000 - val_loss: 0.0023 - val_accuracy: 0.9998\n",
            "Epoch 25/40\n",
            "133/133 [==============================] - 43s 324ms/step - loss: 2.5044e-04 - accuracy: 1.0000 - val_loss: 0.0022 - val_accuracy: 0.9998\n",
            "Epoch 26/40\n",
            "133/133 [==============================] - 43s 324ms/step - loss: 0.0046 - accuracy: 0.9996 - val_loss: 0.0067 - val_accuracy: 0.9991\n",
            "Epoch 27/40\n",
            "133/133 [==============================] - 43s 324ms/step - loss: 0.0057 - accuracy: 0.9989 - val_loss: 0.0224 - val_accuracy: 0.9965\n",
            "Epoch 28/40\n",
            "133/133 [==============================] - 43s 325ms/step - loss: 0.0271 - accuracy: 0.9959 - val_loss: 0.0449 - val_accuracy: 0.9943\n",
            "Epoch 29/40\n",
            "133/133 [==============================] - 43s 323ms/step - loss: 0.0131 - accuracy: 0.9979 - val_loss: 0.0076 - val_accuracy: 0.9991\n",
            "Epoch 30/40\n",
            "133/133 [==============================] - 43s 322ms/step - loss: 0.0017 - accuracy: 0.9994 - val_loss: 0.0058 - val_accuracy: 0.9993\n",
            "Epoch 31/40\n",
            "133/133 [==============================] - 43s 323ms/step - loss: 5.1157e-04 - accuracy: 1.0000 - val_loss: 0.0058 - val_accuracy: 0.9993\n",
            "Epoch 32/40\n",
            "133/133 [==============================] - 43s 321ms/step - loss: 4.4037e-04 - accuracy: 1.0000 - val_loss: 0.0062 - val_accuracy: 0.9993\n",
            "Epoch 33/40\n",
            "133/133 [==============================] - 43s 322ms/step - loss: 4.8364e-04 - accuracy: 1.0000 - val_loss: 0.0082 - val_accuracy: 0.9991\n",
            "Epoch 34/40\n",
            "133/133 [==============================] - 43s 327ms/step - loss: 4.1986e-04 - accuracy: 1.0000 - val_loss: 0.0060 - val_accuracy: 0.9993\n",
            "Epoch 35/40\n",
            "133/133 [==============================] - 43s 327ms/step - loss: 4.9752e-04 - accuracy: 1.0000 - val_loss: 0.0092 - val_accuracy: 0.9991\n",
            "Epoch 36/40\n",
            "133/133 [==============================] - 44s 329ms/step - loss: 0.0021 - accuracy: 0.9996 - val_loss: 0.0025 - val_accuracy: 0.9998\n",
            "Epoch 37/40\n",
            "133/133 [==============================] - 43s 324ms/step - loss: 0.0019 - accuracy: 0.9997 - val_loss: 0.0019 - val_accuracy: 0.9995\n",
            "Epoch 38/40\n",
            "133/133 [==============================] - 43s 327ms/step - loss: 4.7647e-04 - accuracy: 1.0000 - val_loss: 3.2733e-04 - val_accuracy: 0.9998\n",
            "Epoch 39/40\n",
            "133/133 [==============================] - 43s 324ms/step - loss: 4.1256e-04 - accuracy: 0.9999 - val_loss: 2.8485e-04 - val_accuracy: 0.9998\n",
            "Epoch 40/40\n",
            "133/133 [==============================] - 43s 327ms/step - loss: 2.8824e-04 - accuracy: 1.0000 - val_loss: 2.5528e-04 - val_accuracy: 0.9998\n",
            "Score for fold 5: loss of 0.0002552793303038925; accuracy of 99.97642636299133%\n",
            "------------------------------------------------------------------------\n",
            "Score per fold\n",
            "------------------------------------------------------------------------\n",
            "> Fold 1 - Loss: 0.002013609977439046 - Accuracy: 99.92929697036743%\n",
            "------------------------------------------------------------------------\n",
            "> Fold 2 - Loss: 0.009286719374358654 - Accuracy: 99.83498454093933%\n",
            "------------------------------------------------------------------------\n",
            "> Fold 3 - Loss: 0.004926870111376047 - Accuracy: 99.88213181495667%\n",
            "------------------------------------------------------------------------\n",
            "> Fold 4 - Loss: 0.0009314738563261926 - Accuracy: 99.97642636299133%\n",
            "------------------------------------------------------------------------\n",
            "> Fold 5 - Loss: 0.0002552793303038925 - Accuracy: 99.97642636299133%\n",
            "------------------------------------------------------------------------\n",
            "Average scores for all folds:\n",
            "> Accuracy: 99.91985321044922 (+- 0.054983311142170574)\n",
            "> Loss: 0.0034827905299607666\n",
            "------------------------------------------------------------------------\n"
          ],
          "name": "stdout"
        }
      ]
    },
    {
      "cell_type": "markdown",
      "metadata": {
        "id": "82ujXpR7IL5A"
      },
      "source": [
        "# Load Best Model"
      ]
    },
    {
      "cell_type": "code",
      "metadata": {
        "id": "zVQrBlS_-M-J",
        "colab": {
          "base_uri": "https://localhost:8080/"
        },
        "outputId": "0568c670-e9d5-495b-e716-cbaaa2c6f971"
      },
      "source": [
        "# load the best model\n",
        "model = keras.models.load_model('best_model.h5')\n",
        "y_pred = model.predict(x_test)\n",
        "test_loss, test_acc = model.evaluate(x_test, y_test)\n",
        "from sklearn.metrics import confusion_matrix\n",
        "print(confusion_matrix(np.argmax(y_test, axis=1), np.argmax(y_pred, axis=1)))"
      ],
      "execution_count": null,
      "outputs": [
        {
          "output_type": "stream",
          "text": [
            "67/67 [==============================] - 3s 39ms/step - loss: 0.0125 - accuracy: 0.9962\n",
            "[[1064    4]\n",
            " [   4 1050]]\n"
          ],
          "name": "stdout"
        }
      ]
    },
    {
      "cell_type": "markdown",
      "metadata": {
        "id": "uEBjlzr7IPxd"
      },
      "source": [
        "# Accuracy Plots\n"
      ]
    },
    {
      "cell_type": "code",
      "metadata": {
        "id": "LRggxfcO50UJ",
        "colab": {
          "base_uri": "https://localhost:8080/",
          "height": 573
        },
        "outputId": "260c6d50-6604-46a4-b9c9-50d410db94d1"
      },
      "source": [
        "# summarize history for accuracy\n",
        "plt.plot(history.history['accuracy'])\n",
        "plt.plot(history.history['val_accuracy'])\n",
        "plt.title('model accuracy')\n",
        "plt.ylabel('accuracy')\n",
        "plt.xlabel('epoch')\n",
        "plt.legend(['train', 'test'], loc='upper left')\n",
        "plt.show()\n",
        "# summarize history for loss\n",
        "plt.plot(history.history['loss'])\n",
        "plt.plot(history.history['val_loss'])\n",
        "plt.title('model loss')\n",
        "plt.ylabel('loss')\n",
        "plt.xlabel('epoch')\n",
        "plt.legend(['train', 'test'], loc='upper left')\n",
        "plt.show()"
      ],
      "execution_count": null,
      "outputs": [
        {
          "output_type": "display_data",
          "data": {
            "image/png": "[encoded data removed]",
            "text/plain": [
              "<Figure size 432x288 with 1 Axes>"
            ]
          },
          "metadata": {
            "tags": [],
            "needs_background": "light"
          }
        },
        {
          "output_type": "display_data",
          "data": {
            "image/png": "[encoded data removed]",
            "text/plain": [
              "<Figure size 432x288 with 1 Axes>"
            ]
          },
          "metadata": {
            "tags": [],
            "needs_background": "light"
          }
        }
      ]
    },
    {
      "cell_type": "markdown",
      "metadata": {
        "id": "l-5Vf97b1-Ll"
      },
      "source": [
        "# ROC curve"
      ]
    },
    {
      "cell_type": "code",
      "metadata": {
        "id": "tUsBd8vZ18TK",
        "colab": {
          "base_uri": "https://localhost:8080/"
        },
        "outputId": "2af6a320-bd2b-49f4-98a0-5b7e78ccc3f2"
      },
      "source": [
        "from sklearn.metrics import roc_curve\n",
        "y_pred_keras = model.predict(x_test).ravel()\n",
        "print(y_pred_keras.shape)\n",
        "y_t = y_test.ravel()\n",
        "fpr_keras, tpr_keras, thresholds_keras = roc_curve(y_t, y_pred_keras)\n",
        "\n",
        "from sklearn.metrics import auc\n",
        "auc_keras = auc(fpr_keras, tpr_keras)"
      ],
      "execution_count": null,
      "outputs": [
        {
          "output_type": "stream",
          "text": [
            "(4244,)\n"
          ],
          "name": "stdout"
        }
      ]
    },
    {
      "cell_type": "code",
      "metadata": {
        "id": "TYXqeBqHYsX5",
        "colab": {
          "base_uri": "https://localhost:8080/",
          "height": 295
        },
        "outputId": "def2239a-cf64-4b5d-94d7-7edaee005868"
      },
      "source": [
        "plt.figure(1)\n",
        "plt.plot([0, 1], [0, 1], 'k--')\n",
        "plt.plot(fpr_keras, tpr_keras, label='Keras (area = {:.3f})'.format(auc_keras))\n",
        "plt.xlabel('False positive rate')\n",
        "plt.ylabel('True positive rate')\n",
        "plt.title('ROC curve')\n",
        "plt.legend(loc='best')\n",
        "plt.show()"
      ],
      "execution_count": null,
      "outputs": [
        {
          "output_type": "display_data",
          "data": {
            "image/png": "[encoded data removed]",
            "text/plain": [
              "<Figure size 432x288 with 1 Axes>"
            ]
          },
          "metadata": {
            "tags": [],
            "needs_background": "light"
          }
        }
      ]
    },
    {
      "cell_type": "markdown",
      "metadata": {
        "id": "0ZHjd5P7IUTi"
      },
      "source": [
        "# Testing"
      ]
    },
    {
      "cell_type": "code",
      "metadata": {
        "id": "TxNAd2-4ZgMq"
      },
      "source": [
        "def read_csv_test( data_url, window_size, step_size, scaler):\n",
        "\n",
        "  data_np_windowed = []\n",
        "  data_wp_windowed = []\n",
        "\n",
        "  data_np = []\n",
        "  data_wp = []\n",
        "\n",
        "  label_data_np = []\n",
        "  label_data_wp = []\n",
        "\n",
        "  file_list  = glob.glob(data_url+'*.csv')\n",
        "  for file_name in file_list:\n",
        "    print(file_name)\n",
        "    if (file_name.find('NP')!=-1):\n",
        "      noPersonData = pd.read_csv(file_name,low_memory=False)\n",
        "      noPersonData = noPersonData['CSI_DATA'].values\n",
        "      noPersonData = noPersonData[1800:-1800]\n",
        "\n",
        "      for i in range(0, noPersonData.shape[0]):\n",
        "        try:\n",
        "          st = noPersonData[i]\n",
        "          st = st[1:-2]\n",
        "          data_array = [int(s) for s in st.split(' ')]\n",
        "          data_array = data_array[12:64] + data_array[66:-10]\n",
        "          # print(data_array)\n",
        "          data_array_mag = []\n",
        "          for k in range(0,104,2):\n",
        "            data_array_mag.append(sqrt(data_array[k]**2 + data_array[k+1]**2))\n",
        "          # data_array_mag = running_mean(data_array_mag,5)\n",
        "          # data_array_mag = scaler.fit_transform(data_array_mag)\n",
        "          data_np.append(data_array_mag)\n",
        "        # Pre-processing\n",
        "        # data_np_window = lowpass(data_np_window,10,190,3)\n",
        "        # data_np_windowed.append(data_np_window)\n",
        "          # label_data_np.append(0)\n",
        "        except:\n",
        "          continue\n",
        "    else:\n",
        "      withPersonData = pd.read_csv(file_name,low_memory=False)\n",
        "      withPersonData = withPersonData['CSI_DATA'].values\n",
        "      withPersonData = withPersonData[1800:-1800]\n",
        "\n",
        "      for i in range(0, withPersonData.shape[0]):\n",
        "        try:\n",
        "          st = withPersonData[i]\n",
        "          st = st[1:-2]\n",
        "          data_array = [int(s) for s in st.split(' ')]\n",
        "          data_array = data_array[12:65] + data_array[67:-10]\n",
        "          # print(data_array)\n",
        "          data_array_mag = []\n",
        "          for k in range(0,104,2):\n",
        "            data_array_mag.append(sqrt(data_array[k]**2 + data_array[k+1]**2))\n",
        "          # data_array_mag = running_mean(data_array_mag,5)\n",
        "          # data_array_mag = scaler.fit_transform(data_array_mag)\n",
        "          data_wp.append(data_array_mag)\n",
        "          # Pre-processing\n",
        "          # data_np_window = lowpass(data_np_window,10,190,3)\n",
        "          # data_np_windowed.append(data_np_window)\n",
        "          # label_data_wp.append(1)\n",
        "        except:\n",
        "          continue\n",
        "\n",
        "  data_np = np.array(data_np)\n",
        "  data_wp = np.array(data_wp)\n",
        "  for i in range(0,52):\n",
        "          data_np[:,i] = bandpass(data_np[:,i],0.2,10,192,4)\n",
        "          # data_np[:,i] = running_mean(data_np[:,i],10)\n",
        "\n",
        "\n",
        "  for i in range(0,52):\n",
        "          data_wp[:,i] = bandpass(data_wp[:,i],0.2,10,192,4)\n",
        "          # data_wp[:,i] = running_mean(data_wp[:,i],10)\n",
        "  data_both = np.concatenate((data_np, data_wp), axis=0)\n",
        "\n",
        "  data_both = scaler.transform(data_both)\n",
        "\n",
        "  data_np = data_both[0:data_np.shape[0],:]\n",
        "  data_wp = data_both[data_np.shape[0]:,:]\n",
        "\n",
        "\n",
        "\n",
        "  for start in range(0, data_np.shape[0]-window_size, step_size):\n",
        "        end = start + window_size\n",
        "        data_np_window= np.empty((0,52))\n",
        "        for j in range(start, end):\n",
        "          data_array_mag = data_np[j]\n",
        "          data_np_window = np.append(data_np_window,np.array([data_array_mag]),axis = 0)\n",
        "        # for i in range(0,52):\n",
        "        #   data_np_window[:,i] = bandpass(data_np_window[:,i],0.2,30,192,4)\n",
        "        #   data_np_window[:,i] = running_mean(data_np_window[:,i],10)\n",
        "        # data_np_window = scaler.fit_transform(data_np_window)\n",
        "\n",
        "        data_np_windowed.append(data_np_window)\n",
        "        label_data_np.append([0,1])\n",
        "\n",
        "  for start in range(0, data_wp.shape[0]-window_size, step_size):\n",
        "        end = start + window_size\n",
        "        data_wp_window= np.empty((0,52))\n",
        "        for j in range(start, end):\n",
        "          data_array_mag = data_wp[j]\n",
        "          # data_array_mag = running_mean(data_array_mag,10)\n",
        "          data_wp_window = np.append(data_wp_window,np.array([data_array_mag]),axis = 0)\n",
        "        # for i in range(0,52):\n",
        "        #   data_wp_window[:,i] = bandpass(data_wp_window[:,i],0.2,30,192,4)\n",
        "        #   data_wp_window[:,i] = running_mean(data_wp_window[:,i],10)\n",
        "        # data_wp_window = scaler.fit_transform(data_wp_window)\n",
        "        data_wp_windowed.append(data_wp_window)\n",
        "        label_data_wp.append([1,0])\n",
        "\n",
        "  data_np = data_np_windowed\n",
        "  data_wp = data_wp_windowed\n",
        "\n",
        "\n",
        "  return np.array(data_np), np.array(data_wp), np.array(label_data_np), np.array(label_data_wp), scaler\n"
      ],
      "execution_count": null,
      "outputs": []
    },
    {
      "cell_type": "code",
      "metadata": {
        "id": "HWaJWHngHxCL",
        "colab": {
          "base_uri": "https://localhost:8080/"
        },
        "outputId": "4cb4e646-72cc-4c51-c919-a8be567a4026"
      },
      "source": [
        "test_url = '/content/gdrive/MyDrive/Presence_detection_data_CSI/Test1/'\n",
        "\n",
        "\n",
        "import keras\n",
        "\n",
        "from keras.models import Model\n",
        "from keras.models import Sequential\n",
        "from keras.layers import Dense\n",
        "from keras.layers import Flatten\n",
        "from keras.layers import Dropout\n",
        "from keras.layers import LSTM\n",
        "# from keras.utils import to_categorical\n",
        "import tensorflow as tf\n",
        "model = keras.models.load_model(\"best_model.h5\")\n",
        "window_size = 200\n",
        "step_size = 100\n",
        "\n",
        "save_url_test = '/content/gdrive/MyDrive/Presence_detection_data_CSI/Files1/'\n",
        "save_url_np =  save_url_test +  'test_np_window_size={window}_step_size={step}.npy'.format(window = window_size, step = step_size)\n",
        "save_url_np = Path(save_url_np)\n",
        "save_url_wp = save_url_test + 'test_wp_window-size={window}_step_size={step}.npy'.format(window = window_size, step = step_size)\n",
        "save_url_wp = Path(save_url_wp)\n",
        "\n",
        "if (save_url_np.is_file() and save_url_wp.is_file()):\n",
        "  test_np = np.load(save_url_np)\n",
        "  test_wp = np.load(save_url_wp)\n",
        "  test_label_np = np.zeros((test_np.shape[0],1))\n",
        "  test_label_wp = np.zeros((test_wp.shape[0],1))\n",
        "  test_label_np[:,1] = 1\n",
        "  test_label_wp[:,0] = 1\n",
        "\n",
        "\n",
        "else:\n",
        "  file1 = 'test_np_window_size={window}_step_size={step}.npy'.format(window = window_size, step = step_size)\n",
        "  file2 = 'test_wp_window-size={window}_step_size={step}.npy'.format(window = window_size, step = step_size)\n",
        "  test_np, test_wp, test_label_np, test_label_wp, scaler = read_csv_test(test_url, window_size=window_size, step_size=step_size, scaler=scaler)\n",
        "  np.save(file1,test_np)\n",
        "  np.save(file2,test_wp)"
      ],
      "execution_count": null,
      "outputs": [
        {
          "output_type": "stream",
          "text": [
            "/content/gdrive/MyDrive/Presence_detection_data_CSI/Test1/05AP-1158-110-PRABHAT-LAKSHMI-NAYAKI-01.csv\n",
            "/content/gdrive/MyDrive/Presence_detection_data_CSI/Test1/05AP-1240PM-110-NP.csv\n",
            "/content/gdrive/MyDrive/Presence_detection_data_CSI/Test1/Copy of 06AP-1504-736-VINAY-01.csv\n",
            "/content/gdrive/MyDrive/Presence_detection_data_CSI/Test1/Copy of 10AP-2026-112-NP.csv\n",
            "/content/gdrive/MyDrive/Presence_detection_data_CSI/Test1/Copy of 11AP-0024-116-ARHAM.csv\n",
            "/content/gdrive/MyDrive/Presence_detection_data_CSI/Test1/Copy of 12AP-1225-736-NP.csv\n",
            "/content/gdrive/MyDrive/Presence_detection_data_CSI/Test1/Copy of 11AP-0034-116-NP.csv\n",
            "/content/gdrive/MyDrive/Presence_detection_data_CSI/Test1/Copy of 10AP-2032-112-BERA.csv\n",
            "/content/gdrive/MyDrive/Presence_detection_data_CSI/Test1/Copy of 04AP-1740-317-NARENDRA-01.csv\n",
            "/content/gdrive/MyDrive/Presence_detection_data_CSI/Test1/Copy of 11AP-1150-738-NP.csv\n",
            "/content/gdrive/MyDrive/Presence_detection_data_CSI/Test1/Copy of 05AP-1330-111-JATIN-01.csv\n",
            "/content/gdrive/MyDrive/Presence_detection_data_CSI/Test1/Copy of 05AP-1010-737-NP.csv\n",
            "/content/gdrive/MyDrive/Presence_detection_data_CSI/Test1/Copy of 11AP-1200-738-SANJEET.csv\n",
            "/content/gdrive/MyDrive/Presence_detection_data_CSI/Test1/Copy of 06AP-1438-745-TANMAY-01.csv\n",
            "/content/gdrive/MyDrive/Presence_detection_data_CSI/Test1/Copy of 04AP-1840-317-NP.csv\n",
            "/content/gdrive/MyDrive/Presence_detection_data_CSI/Test1/Copy of 12AP-1803-111-NP.csv\n",
            "/content/gdrive/MyDrive/Presence_detection_data_CSI/Test1/Copy of 11AP-1731-737-PROSANJEET.csv\n",
            "/content/gdrive/MyDrive/Presence_detection_data_CSI/Test1/Copy of 12AP-1225-745-NP.csv\n",
            "/content/gdrive/MyDrive/Presence_detection_data_CSI/Test1/Copy of 11AP-1244-729-NP.csv\n",
            "/content/gdrive/MyDrive/Presence_detection_data_CSI/Test1/Copy of 12AP-1756-111-LOKESH.csv\n",
            "/content/gdrive/MyDrive/Presence_detection_data_CSI/Test1/Copy of 11AP-1237-729-ASHUTOSH-PRITAM.csv\n",
            "/content/gdrive/MyDrive/Presence_detection_data_CSI/Test1/Copy of 12AP-1845-702-SURAJ.csv\n",
            "/content/gdrive/MyDrive/Presence_detection_data_CSI/Test1/Copy of 12AP-1853-702-NP.csv\n",
            "/content/gdrive/MyDrive/Presence_detection_data_CSI/Test1/Copy of 12AP-2013-B728-NP.csv\n",
            "/content/gdrive/MyDrive/Presence_detection_data_CSI/Test1/Copy of 12AP-1958-B723-NP.csv\n",
            "/content/gdrive/MyDrive/Presence_detection_data_CSI/Test1/Copy of 12AP-1949-B723-BADRI.csv\n",
            "/content/gdrive/MyDrive/Presence_detection_data_CSI/Test1/Copy of 12AP-1927-B725-SIVANJANEYULU.csv\n",
            "/content/gdrive/MyDrive/Presence_detection_data_CSI/Test1/Copy of 12AP-2006-B728-SRIKARTH.csv\n",
            "/content/gdrive/MyDrive/Presence_detection_data_CSI/Test1/Copy of 12AP-1827-705-TEJAS.csv\n",
            "/content/gdrive/MyDrive/Presence_detection_data_CSI/Test1/Copy of 12AP-1939-B725-NP.csv\n",
            "/content/gdrive/MyDrive/Presence_detection_data_CSI/Test1/Copy of 12AP-1835-705-NP.csv\n",
            "/content/gdrive/MyDrive/Presence_detection_data_CSI/Test1/Copy of 12AP-2024-B709-RANJAN.csv\n",
            "/content/gdrive/MyDrive/Presence_detection_data_CSI/Test1/Copy of 05AP-1355-111-NP.csv\n",
            "/content/gdrive/MyDrive/Presence_detection_data_CSI/Test1/Copy of 12AP-2032-B709-NP.csv\n"
          ],
          "name": "stdout"
        }
      ]
    },
    {
      "cell_type": "code",
      "metadata": {
        "id": "O3MX0HO-3E_k"
      },
      "source": [
        "# test_np = normalizer(test_np,scaler)\n",
        "# test_wp = normalizer(test_wp,scaler)\n",
        "\n",
        "test_ip = np.concatenate((test_np,test_wp),axis=0)\n",
        "test_label = np.concatenate((test_label_np,test_label_wp),axis=0)"
      ],
      "execution_count": null,
      "outputs": []
    },
    {
      "cell_type": "code",
      "metadata": {
        "id": "1MXivr1R8nBq",
        "colab": {
          "base_uri": "https://localhost:8080/"
        },
        "outputId": "61e88b0e-8a81-4653-d28e-f69f287dceda"
      },
      "source": [
        "test_loss, test_acc = model.evaluate(test_ip,test_label)\n",
        "\n",
        "\n",
        "print(test_wp.shape[0])\n",
        "print(int(test_wp.shape[0]*test_acc))\n",
        "print(test_wp.shape[0]-int(test_wp.shape[0]*test_acc))"
      ],
      "execution_count": null,
      "outputs": [
        {
          "output_type": "stream",
          "text": [
            "708/708 [==============================] - 29s 39ms/step - loss: 0.0774 - accuracy: 0.9860\n",
            "10037\n",
            "9896\n",
            "141\n"
          ],
          "name": "stdout"
        }
      ]
    },
    {
      "cell_type": "code",
      "metadata": {
        "id": "JyU39z8_8nzh",
        "colab": {
          "base_uri": "https://localhost:8080/"
        },
        "outputId": "6b374d68-6836-4fb2-c3c4-db3ccdc90b66"
      },
      "source": [
        "test_pred = model.predict(test_ip)\n",
        "from sklearn.metrics import confusion_matrix\n",
        "print(confusion_matrix(np.argmax(test_label, axis=1), np.argmax(test_pred, axis=1)))"
      ],
      "execution_count": null,
      "outputs": [
        {
          "output_type": "stream",
          "text": [
            "[[10010    27]\n",
            " [  289 12325]]\n"
          ],
          "name": "stdout"
        }
      ]
    },
    {
      "cell_type": "code",
      "metadata": {
        "id": "SZW2NC6tohl9"
      },
      "source": [],
      "execution_count": null,
      "outputs": []
    }
  ]
}